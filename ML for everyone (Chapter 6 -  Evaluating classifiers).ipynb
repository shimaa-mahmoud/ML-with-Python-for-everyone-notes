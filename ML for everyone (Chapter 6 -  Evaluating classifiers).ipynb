{
 "cells": [
  {
   "cell_type": "code",
   "execution_count": 1,
   "id": "267437f6",
   "metadata": {},
   "outputs": [],
   "source": [
    "# setup\n",
    "from mlwpy import *\n",
    "%matplotlib inline"
   ]
  },
  {
   "cell_type": "markdown",
   "id": "96004e40",
   "metadata": {},
   "source": [
    "# Baseline Classifiers\n",
    "We can imagine four levels of learning systems:\n",
    "1. **Baseline methods**—prediction based on simple statistics or random guesses,\n",
    "2. **Simple off-the-shelf** learning methods—predictors that are generally less resource-intensive,\n",
    "3. **Complex off-the-shelf** learning methods—predictors that are generally more resource-intensive, and \n",
    "4. **Customized**, boutique learning methods.\n",
    "\n",
    "In `sklearn`, there are ***four*** baseline classification methods (dummy calssifiers), Two baseline methods are random:\n",
    "1. **uniform**: choose **evenly** among the target classes based on the number of classes\n",
    "2. **stratified**: choose evenly among the target classes based on frequency of those classes\n",
    "\n",
    "these methods will behave differently when a dataset has rare occurrences,lets say we have a dataset with 95% healthy and 5% sick the ***uniform*** will choose 50-50 between the two classes while the other it will choose based on the percentage of the classes so 95-5\n",
    "\n",
    "Two methods return a constant value:\n",
    "1. **constant** (surprise?): return one target class that we’ve picked out and\n",
    "2. **most_frequent**: return the single most likely class. most_frequent is also available under the name **prior**"
   ]
  },
  {
   "cell_type": "code",
   "execution_count": 2,
   "id": "40ee57d7",
   "metadata": {},
   "outputs": [],
   "source": [
    "iris = datasets.load_iris()\n",
    "\n",
    "tts = skms.train_test_split(iris.data, iris.target, test_size=.33, random_state=21)\n",
    "\n",
    "(iris_train_ftrs, iris_test_ftrs, iris_train_tgt, iris_test_tgt) = tts"
   ]
  },
  {
   "cell_type": "code",
   "execution_count": 3,
   "id": "901427f0",
   "metadata": {},
   "outputs": [
    {
     "name": "stdout",
     "output_type": "stream",
     "text": [
      "0.3\n"
     ]
    }
   ],
   "source": [
    "# normal usage: build-fit-predict-evaluate\n",
    "baseline = dummy.DummyClassifier(strategy=\"most_frequent\")\n",
    "baseline.fit(iris_train_ftrs, iris_train_tgt)\n",
    "base_preds = baseline.predict(iris_test_ftrs)\n",
    "base_acc = metrics.accuracy_score(base_preds, iris_test_tgt)\n",
    "print(base_acc)"
   ]
  },
  {
   "cell_type": "code",
   "execution_count": 4,
   "id": "be640d56",
   "metadata": {},
   "outputs": [
    {
     "data": {
      "text/html": [
       "<div>\n",
       "<style scoped>\n",
       "    .dataframe tbody tr th:only-of-type {\n",
       "        vertical-align: middle;\n",
       "    }\n",
       "\n",
       "    .dataframe tbody tr th {\n",
       "        vertical-align: top;\n",
       "    }\n",
       "\n",
       "    .dataframe thead th {\n",
       "        text-align: right;\n",
       "    }\n",
       "</style>\n",
       "<table border=\"1\" class=\"dataframe\">\n",
       "  <thead>\n",
       "    <tr style=\"text-align: right;\">\n",
       "      <th></th>\n",
       "      <th>accuracy</th>\n",
       "    </tr>\n",
       "  </thead>\n",
       "  <tbody>\n",
       "    <tr>\n",
       "      <th>constant</th>\n",
       "      <td>0.3600</td>\n",
       "    </tr>\n",
       "    <tr>\n",
       "      <th>uniform</th>\n",
       "      <td>0.3800</td>\n",
       "    </tr>\n",
       "    <tr>\n",
       "      <th>stratified</th>\n",
       "      <td>0.3400</td>\n",
       "    </tr>\n",
       "    <tr>\n",
       "      <th>prior</th>\n",
       "      <td>0.3000</td>\n",
       "    </tr>\n",
       "    <tr>\n",
       "      <th>most_frequent</th>\n",
       "      <td>0.3000</td>\n",
       "    </tr>\n",
       "  </tbody>\n",
       "</table>\n",
       "</div>"
      ],
      "text/latex": [
       "{\\centering\n",
       "\\begin{tabular}{lr}\n",
       "\\toprule\n",
       "{} &             accuracy \\\\\n",
       "\\midrule\n",
       "constant      &               0.3600 \\\\\n",
       "uniform       &               0.3800 \\\\\n",
       "stratified    &               0.3400 \\\\\n",
       "prior         &               0.3000 \\\\\n",
       "most\\_frequent &               0.3000 \\\\\n",
       "\\bottomrule\n",
       "\\end{tabular}\n",
       "\n",
       "\\medskip}"
      ],
      "text/plain": [
       "                          accuracy\n",
       "constant                    0.3600\n",
       "uniform                     0.3800\n",
       "stratified                  0.3400\n",
       "prior                       0.3000\n",
       "most_frequent               0.3000"
      ]
     },
     "metadata": {},
     "output_type": "display_data"
    }
   ],
   "source": [
    "# lets compare their performance\n",
    "strategies = ['constant', 'uniform', 'stratified', 'prior', 'most_frequent']\n",
    "\n",
    "# set up args to create different DummyClassifier strategies\n",
    "baseline_args = [{'strategy':s} for s in strategies]\n",
    "baseline_args[0]['constant'] = 0 # class 0 is setosa\n",
    "\n",
    "accuracies = []\n",
    "for bla in baseline_args:\n",
    "    baseline = dummy.DummyClassifier(**bla)\n",
    "    baseline.fit(iris_train_ftrs, iris_train_tgt)\n",
    "    base_preds = baseline.predict(iris_test_ftrs)\n",
    "    accuracies.append(metrics.accuracy_score(base_preds, iris_test_tgt))\n",
    "\n",
    "display(pd.DataFrame({'accuracy':accuracies}, index=strategies))"
   ]
  },
  {
   "cell_type": "markdown",
   "id": "cf053743",
   "metadata": {},
   "source": [
    "The uniform methods (uniform, stratified) will return different result every run but the other will be the same"
   ]
  },
  {
   "cell_type": "markdown",
   "id": "7239d6a4",
   "metadata": {},
   "source": [
    "#  Beyond Accuracy: Metrics for Classification"
   ]
  },
  {
   "cell_type": "code",
   "execution_count": 5,
   "id": "d86c91da",
   "metadata": {},
   "outputs": [
    {
     "data": {
      "text/plain": [
       "\"['accuracy', 'adjusted_mutual_info_score', 'adjusted_rand_score', 'average_precision', 'balanced_accuracy', 'completeness_score', 'explained_variance', 'f1', 'f1_macro', 'f1_micro', 'f1_samples', 'f1_weighted', 'fowlkes_mallows_score', 'homogeneity_score', 'jaccard', 'jaccard_macro', 'jaccard_micro', 'jaccard_samples', 'jaccard_weighted', 'max_error', 'mutual_info_score', 'neg_brier_score', 'neg_log_loss', 'neg_mean_absolute_error', 'neg_mean_absolute_percentage_error', 'neg_mean_gamma_deviance', 'neg_mean_poisson_deviance', 'neg_mean_squared_error', 'neg_mean_squared_log_error', 'neg_median_absolute_error', 'neg_root_mean_squared_error', 'normalized_mutual_info_score', 'precision', 'precision_macro', 'precision_micro', 'precision_samples', 'precision_weighted', 'r2', 'rand_score', 'recall', 'recall_macro', 'recall_micro', 'recall_samples', 'recall_weighted', 'roc_auc', 'roc_auc_ovo', 'roc_auc_ovo_weighted', 'roc_auc_ovr', 'roc_auc_ovr_weighted', 'top_k_accuracy', 'v_measure_score']\""
      ]
     },
     "execution_count": 5,
     "metadata": {},
     "output_type": "execute_result"
    }
   ],
   "source": [
    "str(sorted(metrics.SCORERS.keys()))"
   ]
  },
  {
   "cell_type": "markdown",
   "id": "4d238438",
   "metadata": {},
   "source": [
    "Not all of these are for classifiers"
   ]
  },
  {
   "cell_type": "code",
   "execution_count": 6,
   "id": "4de73883",
   "metadata": {},
   "outputs": [
    {
     "name": "stdout",
     "output_type": "stream",
     "text": [
      "\n",
      "        Return the mean accuracy on the given test data and labels.\n",
      "\n",
      "        In multi-label classification, this is the subset accuracy\n",
      "        which is a harsh metric since you require for each sample that\n",
      "        each label set be correctly predicted.\n",
      "\n",
      "        Parameters\n",
      "        ----------\n",
      "        X : array-like of shape (n_samples, n_features)\n",
      "            Test samples.\n",
      "\n",
      "        y : array-like of shape (n_samples,) or (n_samples, n_outputs)\n",
      "            True labels for `X`.\n",
      "\n",
      "        sample_weight : array-like of shape (n_samples,), default=None\n",
      "            Sample weights.\n",
      "\n",
      "        Returns\n",
      "        -------\n",
      "        score : float\n",
      "            Mean accuracy of ``self.predict(X)`` wrt. `y`.\n",
      "        \n"
     ]
    }
   ],
   "source": [
    "knn = neighbors.KNeighborsClassifier()\n",
    "\n",
    "# help(knn.score) # verbose, but complete\n",
    "\n",
    "print(knn.score.__doc__)"
   ]
  },
  {
   "cell_type": "markdown",
   "id": "a3d3264a",
   "metadata": {},
   "source": [
    "So the score metric for knn is the accuracy , which it might not be the best most of the time<br>\n",
    "let's say we build a model to predic spam emails and made the classifiers always choose emails as not spam, so if for every 100 email only 5 were spam then our model has a score/ accuracy  is 95% which is high but our classifier is not actually classifying"
   ]
  },
  {
   "cell_type": "markdown",
   "id": "9fb2b91f",
   "metadata": {},
   "source": [
    "##  Eliminating Confusion from the Confusion Matrix\n",
    "`innocent untill proven guilty` if our classifier predict if a suspect guilty or not there could be two types of error\n",
    " - He is innocent but we predicted to be guilty (we put an innocent person in prison)\n",
    " - He is guilty but we predicted to be innocent (we free a guilty criminal)\n",
    " \n",
    " Both mistakes are bad<br>\n",
    " \n",
    "the both classes (guilty / innocent ) are positive and negative outcome, we call the +ve:\n",
    "(1) the more risky, (2) the less likely, or (3) the more interesting outcome.<br>\n",
    "\n",
    "Another example is if we need to clean a metal pot, what kind of errors we could get\n",
    "1. guess that is hot and not clean it but we will get in trouble for being laze\n",
    "2. guess that is cold and get burnt when touching it\n"
   ]
  },
  {
   "cell_type": "markdown",
   "id": "2c1dc227",
   "metadata": {},
   "source": [
    "##  Ways of Being Wrong"
   ]
  },
  {
   "cell_type": "markdown",
   "id": "714e409c",
   "metadata": {},
   "source": [
    "<div>\n",
    "<img src=\"pdfs/1.png\" width="400" height= "400">\n",
    "</div>\n",
    "\n",
    "We are going to replace this example whith some general terms, Right--> True (i predicted correctly), Hot -->( Positive)\n",
    "\n",
    "<div> <br>\n",
    "<img src=\"pdfs/2.png\" width=\"600\" height=\"600\">\n",
    "</div>\n",
    "\n",
    "SO `True/False` represent the prdiction whether i predicted right or wrong, `+ve/-ve`represent the class (hot is +ve and cold is -ve)\n",
    "- **True Positive**, means that (1) I was correct (True) when (2) I claimed the pot was hot (Positive).\n",
    "- **True Negative**, means that (1) I was correct (True) when (2) I claimed the pot was cpld (Negative).\n",
    "- **False Positive**, means that (1) I was wrong (False) when (2) I claimed the pot was hot (Positive).\n",
    "- **False Negative**, means that (1) I was wrong (False) when (2) I claimed the pot was hot (Negative).\n",
    "\n",
    "<div> <br>\n",
    "<img src=\"pdfs/3.png\" width=\"600\" height=\"600\">\n",
    "</div>\n",
    "\n",
    "There are a few mathematical relationships here:\n",
    "1. `RealP = TP + FN` and `RealN = FP + TN`\n",
    "2. `PredP = TP + FP` and `PredN = FN + TN`\n"
   ]
  },
  {
   "cell_type": "markdown",
   "id": "3f27df9e",
   "metadata": {},
   "source": [
    "## Metrics from the Confusion Matrix\n",
    "\n",
    "If we are doctors we care how well we can define if the person is sick (+ve class), so we want to know form the real +ve how many did get right -- > $\\frac {TP}{TP + FN} $, ***The term for this is `sensitivity` or `recall` or `TPR`(TRUE +ve rate)*** Where the error here is the **FN** <br>\n",
    "\n",
    "What if we care about the healthy people (-ve class), --> $\\frac {TN}{TN + FP} $ **The term for this is `specificity` or TNR <br>\n",
    "\n",
    "What if i want to know from all the +ve prediction that where made how many of them were right -->--> $\\frac {TP}{TP + FP} $, which is called `precision`. Try saying, “How precise are our positive predictions?\n",
    "\n",
    "<div> <br>\n",
    "<img src=\"pdfs/4.png\" width=\"400\" height=\"400\">\n",
    "</div>\n"
   ]
  },
  {
   "cell_type": "markdown",
   "id": "e4b168b8",
   "metadata": {},
   "source": [
    "## Coding the Confusion Matrix"
   ]
  },
  {
   "cell_type": "code",
   "execution_count": 7,
   "id": "eff04966",
   "metadata": {},
   "outputs": [
    {
     "name": "stdout",
     "output_type": "stream",
     "text": [
      "accuracy: 0.94\n",
      "confusion matrix:\n",
      "[[18  0  0]\n",
      " [ 0 16  1]\n",
      " [ 0  2 13]]\n"
     ]
    }
   ],
   "source": [
    "tgt_preds = (neighbors.KNeighborsClassifier().fit(iris_train_ftrs, iris_train_tgt).predict(iris_test_ftrs))\n",
    "\n",
    "print(\"accuracy:\", metrics.accuracy_score(iris_test_tgt, tgt_preds))\n",
    "\n",
    "cm = metrics.confusion_matrix(iris_test_tgt, tgt_preds)\n",
    "print(\"confusion matrix:\", cm, sep=\"\\n\")"
   ]
  },
  {
   "cell_type": "code",
   "execution_count": 8,
   "id": "aabedcbf",
   "metadata": {},
   "outputs": [
    {
     "data": {
      "image/png": "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\n",
      "text/plain": [
       "<Figure size 288x288 with 2 Axes>"
      ]
     },
     "metadata": {
      "needs_background": "light"
     },
     "output_type": "display_data"
    }
   ],
   "source": [
    "fig, ax = plt.subplots(1, 1, figsize=(4, 4))\n",
    "ax = sns.heatmap(cm, annot=True, square=True, xticklabels=iris.target_names, yticklabels=iris.target_names)\n",
    "ax.set_xlabel('Predicted')\n",
    "ax.set_ylabel('Actual');"
   ]
  },
  {
   "cell_type": "markdown",
   "id": "29fbbd64",
   "metadata": {},
   "source": [
    "##  Dealing with Multiple Classes: Multiclass Averaging\n",
    "Fom the previous example the percision for the 3 class are {1, $\\frac{16}{18}$, $\\frac{13}{14}$}, how do we combine these three values into one, well we could use the mean,This method of summarizing the predictions is called `macro` by sklearn\n"
   ]
  },
  {
   "cell_type": "code",
   "execution_count": 9,
   "id": "22ea4ff4",
   "metadata": {},
   "outputs": [
    {
     "name": "stdout",
     "output_type": "stream",
     "text": [
      "macro: 0.9391534391534391\n",
      "should equal 'macro avg': 0.9391534391534391\n"
     ]
    }
   ],
   "source": [
    "macro_prec = metrics.precision_score(iris_test_tgt, tgt_preds, average='macro')\n",
    "print(\"macro:\", macro_prec)\n",
    "\n",
    "cm = metrics.confusion_matrix(iris_test_tgt, tgt_preds)\n",
    "n_labels = len(iris.target_names)\n",
    "print(\"should equal 'macro avg':\",\n",
    "# correct column # columns\n",
    "(np.diag(cm) / cm.sum(axis=0)).sum() / n_labels)"
   ]
  },
  {
   "cell_type": "code",
   "execution_count": 10,
   "id": "d4845022",
   "metadata": {},
   "outputs": [
    {
     "name": "stdout",
     "output_type": "stream",
     "text": [
      "micro: 0.94\n",
      "should equal avg='micro': 0.94\n"
     ]
    }
   ],
   "source": [
    "# micro takes all the correct predictions and divides by all the predictions we made.\n",
    "# micro = (18 + 16 + 13 ) / (18 + 17 + 15)\n",
    "\n",
    "print(\"micro:\", metrics.precision_score(iris_test_tgt, tgt_preds, average='micro'))\n",
    "\n",
    "cm = metrics.confusion_matrix(iris_test_tgt, tgt_preds)\n",
    "print(\"should equal avg='micro':\",\n",
    "# TP.sum() / (TP&FP).sum() -->\n",
    "# all correct / all preds\n",
    "np.diag(cm).sum() / cm.sum())"
   ]
  },
  {
   "cell_type": "code",
   "execution_count": 11,
   "id": "ddbeafbb",
   "metadata": {},
   "outputs": [
    {
     "name": "stdout",
     "output_type": "stream",
     "text": [
      "              precision    recall  f1-score   support\n",
      "\n",
      "           0       1.00      1.00      1.00        18\n",
      "           1       0.89      0.94      0.91        17\n",
      "           2       0.93      0.87      0.90        15\n",
      "\n",
      "    accuracy                           0.94        50\n",
      "   macro avg       0.94      0.94      0.94        50\n",
      "weighted avg       0.94      0.94      0.94        50\n",
      "\n",
      "row counts equal support: [18 17 15]\n"
     ]
    }
   ],
   "source": [
    "print(metrics.classification_report(iris_test_tgt, tgt_preds))\n",
    "# average is a weighted macro average (see text)\n",
    "\n",
    "# verify sums-across-rows\n",
    "cm = metrics.confusion_matrix(iris_test_tgt, tgt_preds)\n",
    "print(\"row counts equal support:\", cm.sum(axis=1))"
   ]
  },
  {
   "cell_type": "markdown",
   "id": "8dbe7235",
   "metadata": {},
   "source": [
    "## $F_1$ Score\n",
    "\n",
    "<div> <br>\n",
    "<img src=\"pdfs/5.png\" width=\"400\" height=\"400\">\n",
    "</div>"
   ]
  },
  {
   "cell_type": "markdown",
   "id": "3d4fecf1",
   "metadata": {},
   "source": [
    "# ROC curves\n",
    "Our classifier can do more than predicting the label of the class it can also the give us the probability of the prediction ( how confident are we in the prediction )<br>\n",
    "we can set a threshold to determine between the +ve and -ve class where the left of the bar is the -ve class and on its right is the +ve class\n",
    "<div> <br>\n",
    "<img src=\"pdfs/6.png\" width=\"400\" height=\"400\">\n",
    "</div>\n",
    "\n",
    "every probability on the left of the threshold is considered -ve class and on its right is the +ve class, If we moved the bar all the way to the left (threshold = 0) all our prediction will be to the +ve class and the FN = 0 (as we don't predict -ve no more),  If we moved the bar all the way to the right (threshold = 1) all our prediction will be to the -ve class and the FP = 0 (as we don't predict -ve no more)<br>\n",
    "\n",
    "How to choose the best threshold to solve this tradeoff<br>\n",
    "**ROC** curves are normally drawn in terms of sensitivity (also called true positive rate(TPR) or recall with respect to FPR (1 - TNR).<br> We want to have a high TPR: 1.0 is perfect. We want a low FPR: 0.0 is great"
   ]
  },
  {
   "cell_type": "markdown",
   "id": "f4fba191",
   "metadata": {},
   "source": [
    "## Patterns in the ROC\n",
    "\n",
    "<div> <br>\n",
    "<img src=\"pdfs/7.png\" width=\"400\" height=\"400\">\n",
    "</div>\n",
    "\n"
   ]
  },
  {
   "cell_type": "markdown",
   "id": "0ee33d27",
   "metadata": {},
   "source": [
    "1. Low threshold means we move everything to be +ve class, This occurs in the top-right corner of the ROC graph, since we have a high number of +ve class then we have a high number of FP\n",
    "2. A high threshold means we make many things negative, It’s hard to get over a high bar to be a positive thats why there is little FP\n",
    "\n",
    "Four things stand out in the ROC graph\n",
    "1. The y = x line from the bottom-left corner to the top-right corner represents coin flipping: randomly guessing the target class. Any decent classifier should do better than this. Better means pushing towards the top-left of the diagram.\n",
    "2. A perfect classifier lines up with the left side and the top of the box.\n",
    "3. Classifier A does strictly better than B and C. A is more to the top-left than B and C, everywhere.\n",
    "4. B and C flip-flop. At the higher thresholds B is better; at lower thresholds C is better.\n"
   ]
  },
  {
   "cell_type": "markdown",
   "id": "fcc08d6b",
   "metadata": {},
   "source": [
    "## Binary ROC\n",
    "First we need to our classification to binary classification, we will only work with one class and see if we predicted correct or not"
   ]
  },
  {
   "cell_type": "code",
   "execution_count": 12,
   "id": "a1132a82",
   "metadata": {},
   "outputs": [],
   "source": [
    "is_versicolor = iris.target == 1   # boolean col (1 for versicolor 0 otherwise)\n",
    "\n",
    "tts_1c = skms.train_test_split(iris.data, is_versicolor, test_size=.33, random_state = 21)\n",
    "(iris_1c_train_ftrs, iris_1c_test_ftrs, iris_1c_train_tgt, iris_1c_test_tgt) = tts_1c\n",
    "\n",
    "# build, fit, predict (probability scores) for NB model\n",
    "gnb = naive_bayes.GaussianNB()\n",
    "prob_true = (gnb.fit(iris_1c_train_ftrs, iris_1c_train_tgt).predict_proba(iris_1c_test_ftrs)[:, 1]) # all rows for the True col\n",
    "# predict_proba return arraylike with the shape[n of samples, n of classes]==\"True\""
   ]
  },
  {
   "cell_type": "code",
   "execution_count": 13,
   "id": "32796c73",
   "metadata": {},
   "outputs": [
    {
     "name": "stdout",
     "output_type": "stream",
     "text": [
      "FPR       : [0.     0.     0.     0.0606 0.0606 0.1212 0.1212 0.1818 1.    ]\n",
      "TPR       : [0.     0.0588 0.8824 0.8824 0.9412 0.9412 1.     1.     1.    ]\n",
      "Threshold : [1.9799 0.9799 0.3937 0.319  0.2639 0.116  0.1061 0.05   0.    ]\n"
     ]
    },
    {
     "data": {
      "image/png": "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\n",
      "text/plain": [
       "<Figure size 576x288 with 1 Axes>"
      ]
     },
     "metadata": {
      "needs_background": "light"
     },
     "output_type": "display_data"
    }
   ],
   "source": [
    "fpr, tpr, thresh = metrics.roc_curve(iris_1c_test_tgt, prob_true)\n",
    "auc = metrics.auc(fpr, tpr)\n",
    "print(\"FPR       : {}\".format(fpr), \"TPR       : {}\".format(tpr),\"Threshold : {}\".format(thresh), sep='\\n')\n",
    "\n",
    "# create the main graph\n",
    "fig, ax = plt.subplots(figsize=(8, 4))\n",
    "ax.plot(fpr, tpr, 'o--')\n",
    "ax.set_title(\"1-Class Iris ROC Curve\\nAUC:{:.3f}\".format(auc))\n",
    "ax.set_xlabel(\"FPR\")\n",
    "ax.set_ylabel(\"TPR\");\n",
    "\n",
    "# do a bit of work to label some points with their\n",
    "# respective thresholds\n",
    "investigate = np.array([1, 3, 5])\n",
    "for idx in investigate:\n",
    "    th, f, t = thresh[idx], fpr[idx], tpr[idx]\n",
    "    ax.annotate('thresh = {:.3f}'.format(th),\n",
    "    xy=(f+.01, t-.01), xytext=(f+.1, t),\n",
    "    arrowprops = {'arrowstyle':'->'})"
   ]
  },
  {
   "cell_type": "markdown",
   "id": "0c4656ec",
   "metadata": {},
   "source": [
    "Remember that each point represent a different confusion matrix"
   ]
  },
  {
   "cell_type": "code",
   "execution_count": 14,
   "id": "99d87ea3",
   "metadata": {},
   "outputs": [
    {
     "data": {
      "image/png": "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\n",
      "text/plain": [
       "<Figure size 864x288 with 3 Axes>"
      ]
     },
     "metadata": {
      "needs_background": "light"
     },
     "output_type": "display_data"
    }
   ],
   "source": [
    "itle_fmt = \"Threshold {}\\n~{:5.3f}\\nTPR : {:.3f}\\nFPR : {:.3f}\"\n",
    "\n",
    "pn = ['Positive', 'Negative'] \n",
    "add_args = {'xticklabels': pn, 'yticklabels': pn, 'square':True}\n",
    "\n",
    "fig, axes = plt.subplots(1, 3, sharey = True, figsize=(12, 4))\n",
    "\n",
    "for ax, thresh_idx in zip(axes.flat, investigate):\n",
    "    \n",
    "    preds_at_th = prob_true < thresh[thresh_idx]\n",
    "    cm = metrics.confusion_matrix(1-iris_1c_test_tgt, preds_at_th)\n",
    "    sns.heatmap(cm, annot=True, cbar=False, ax=ax, **add_args)\n",
    "\n",
    "    ax.set_xlabel('Predicted')\n",
    "    ax.set_title('threshold # '+ str(thresh_idx) +\n",
    "                 '\\n threshold val : ' +  str(round(thresh[thresh_idx], 2)) +\n",
    "                 '\\n TPR : ' +  str(round(tpr[thresh_idx], 2)) + \n",
    "                 '\\n FPR : ' + str(round(fpr[thresh_idx], 2)))\n",
    "\n",
    "axes[0].set_ylabel('Actual');\n",
    "# note: e.g. for threshold 3\n",
    "# FPR = 1-spec = 1 - 31/(31+2) = 1 - 31/33 = 0.0606..."
   ]
  },
  {
   "cell_type": "markdown",
   "id": "ab30321c",
   "metadata": {},
   "source": [
    "## AUC: Area-Under-the-(ROC)-Curve\n",
    "The AUC is an overall measure of classifier performance at a series of thresholds. It summarizes a lot of information and subtlety into one number"
   ]
  },
  {
   "cell_type": "code",
   "execution_count": 15,
   "id": "0c59002b",
   "metadata": {},
   "outputs": [
    {
     "data": {
      "image/png": "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\n",
      "text/plain": [
       "<Figure size 216x216 with 1 Axes>"
      ]
     },
     "metadata": {
      "needs_background": "light"
     },
     "output_type": "display_data"
    }
   ],
   "source": [
    "fig,ax = plt.subplots(1, 1, figsize=(3, 3))\n",
    "model = neighbors.KNeighborsClassifier(3)\n",
    "cv_auc = skms.cross_val_score(model, iris.data, iris.target==1, scoring='roc_auc', cv=10)\n",
    "ax = sns.swarmplot(y = cv_auc)\n",
    "ax.set_title('10-Fold AUCs');"
   ]
  },
  {
   "cell_type": "markdown",
   "id": "f497a251",
   "metadata": {},
   "source": [
    "Many of the folds have perfect results."
   ]
  },
  {
   "cell_type": "markdown",
   "id": "df88377f",
   "metadata": {},
   "source": [
    "\n",
    "## Multiclass Learners, One-versus-Rest, and ROC\n",
    "metrics.roc_curve is ill-equipped to deal with multiclass problems, we can come around that using `OvR` (one versus rest). This is similar to what we did before in the binary ROC<br> (class 0 versus 1,2 - class 1 versus 0,2 - class 2 versus 0, 1)"
   ]
  },
  {
   "cell_type": "markdown",
   "id": "4fa8b0a8",
   "metadata": {},
   "source": [
    "We can do this using `label_binarize(Data to encode, data classes) and it return a matrix of (n record, n classes)`"
   ]
  },
  {
   "cell_type": "code",
   "execution_count": 16,
   "id": "9875b5aa",
   "metadata": {},
   "outputs": [
    {
     "name": "stdout",
     "output_type": "stream",
     "text": [
      "Original Encoding\n",
      "[0 1 2]\n"
     ]
    }
   ],
   "source": [
    "checkout = [0, 50, 100]\n",
    "print(\"Original Encoding\")\n",
    "print(iris.target[checkout])"
   ]
  },
  {
   "cell_type": "code",
   "execution_count": 17,
   "id": "fdf1c06f",
   "metadata": {},
   "outputs": [
    {
     "name": "stdout",
     "output_type": "stream",
     "text": [
      "'Multi-label' Encoding\n",
      "[[1 0 0]\n",
      " [0 1 0]\n",
      " [0 0 1]]\n"
     ]
    }
   ],
   "source": [
    "print(\"'Multi-label' Encoding\")\n",
    "print(skpre.label_binarize(iris.target, [0, 1, 2])[checkout])"
   ]
  },
  {
   "cell_type": "code",
   "execution_count": 18,
   "id": "154722c9",
   "metadata": {},
   "outputs": [
    {
     "data": {
      "text/plain": [
       "(50, 4)"
      ]
     },
     "execution_count": 18,
     "metadata": {},
     "output_type": "execute_result"
    }
   ],
   "source": [
    "iris_multi_tgt = skpre.label_binarize(iris.target, [0, 1, 2])\n",
    "\n",
    "# im --> \"iris multi\"\n",
    "\n",
    "(im_train_ftrs, im_test_ftrs,im_train_tgt, im_test_tgt) = skms.train_test_split(iris.data\n",
    "                                                                                ,iris_multi_tgt\n",
    "                                                                                ,test_size=.33\n",
    "                                                                                ,random_state=21)\n",
    "im_test_ftrs.shape\n"
   ]
  },
  {
   "cell_type": "code",
   "execution_count": 19,
   "id": "57234480",
   "metadata": {},
   "outputs": [
    {
     "data": {
      "image/png": "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\n",
      "text/plain": [
       "<Figure size 576x288 with 1 Axes>"
      ]
     },
     "metadata": {
      "needs_background": "light"
     },
     "output_type": "display_data"
    }
   ],
   "source": [
    "# knn wrapped up in one-versus-rest (3 classifiers)\n",
    "knn = neighbors.KNeighborsClassifier(n_neighbors=5)\n",
    "ovr_knn = skmulti.OneVsRestClassifier(knn)\n",
    "pred_probs = (ovr_knn.fit(im_train_ftrs, im_train_tgt).predict_proba(im_test_ftrs))\n",
    "\n",
    "# make ROC plots\n",
    "lbl_fmt = \"Class {} vs Rest (AUC = {:.2f})\"\n",
    "fig,ax = plt.subplots(figsize=(8, 4))\n",
    "for cls in [0, 1, 2]:\n",
    "    fpr, tpr, _ = metrics.roc_curve(im_test_tgt[:,cls], pred_probs[:,cls])\n",
    "    label = lbl_fmt.format(cls, metrics.auc(fpr,tpr))\n",
    "    ax.plot(fpr, tpr, 'o--', label=label)\n",
    "ax.legend()\n",
    "ax.set_xlabel(\"FPR\")\n",
    "ax.set_ylabel(\"TPR\");"
   ]
  },
  {
   "cell_type": "markdown",
   "id": "cd0cce30",
   "metadata": {},
   "source": [
    "#  Another Take on Multiclass:One-versus-One\n",
    "another way for one-vs-rest is one-vs-one, So instead on class 0 vs 1, 2 it becomes 0 vs 1 and 0 vs 2 ans so on for the other classes<br>\n",
    "**Note** that the result is normalized thats why is not a whole number"
   ]
  },
  {
   "cell_type": "markdown",
   "id": "42eb3a4a",
   "metadata": {},
   "source": [
    "so what we do with the result, we will have 2 result for every class. We sum the result and the class with the highest sum wins"
   ]
  },
  {
   "cell_type": "code",
   "execution_count": 20,
   "id": "363165ee",
   "metadata": {},
   "outputs": [
    {
     "data": {
      "text/html": [
       "<div>\n",
       "<style scoped>\n",
       "    .dataframe tbody tr th:only-of-type {\n",
       "        vertical-align: middle;\n",
       "    }\n",
       "\n",
       "    .dataframe tbody tr th {\n",
       "        vertical-align: top;\n",
       "    }\n",
       "\n",
       "    .dataframe thead th {\n",
       "        text-align: right;\n",
       "    }\n",
       "</style>\n",
       "<table border=\"1\" class=\"dataframe\">\n",
       "  <thead>\n",
       "    <tr style=\"text-align: right;\">\n",
       "      <th></th>\n",
       "      <th>0</th>\n",
       "      <th>1</th>\n",
       "      <th>2</th>\n",
       "      <th>class</th>\n",
       "    </tr>\n",
       "  </thead>\n",
       "  <tbody>\n",
       "    <tr>\n",
       "      <th>0</th>\n",
       "      <td>-0.2222</td>\n",
       "      <td>2.1667</td>\n",
       "      <td>1.1667</td>\n",
       "      <td>1</td>\n",
       "    </tr>\n",
       "    <tr>\n",
       "      <th>1</th>\n",
       "      <td>2.0000</td>\n",
       "      <td>1.0000</td>\n",
       "      <td>0.0000</td>\n",
       "      <td>0</td>\n",
       "    </tr>\n",
       "    <tr>\n",
       "      <th>2</th>\n",
       "      <td>2.0000</td>\n",
       "      <td>1.0000</td>\n",
       "      <td>0.0000</td>\n",
       "      <td>0</td>\n",
       "    </tr>\n",
       "    <tr>\n",
       "      <th>3</th>\n",
       "      <td>2.0000</td>\n",
       "      <td>1.0000</td>\n",
       "      <td>0.0000</td>\n",
       "      <td>0</td>\n",
       "    </tr>\n",
       "    <tr>\n",
       "      <th>4</th>\n",
       "      <td>-0.2222</td>\n",
       "      <td>2.1667</td>\n",
       "      <td>1.1667</td>\n",
       "      <td>1</td>\n",
       "    </tr>\n",
       "  </tbody>\n",
       "</table>\n",
       "</div>"
      ],
      "text/latex": [
       "{\\centering\n",
       "\\begin{tabular}{lrrrr}\n",
       "\\toprule\n",
       "{} &                    0 &                    1 &                    2 &  class \\\\\n",
       "\\midrule\n",
       "0 &              -0.2222 &               2.1667 &               1.1667 &      1 \\\\\n",
       "1 &               2.0000 &               1.0000 &               0.0000 &      0 \\\\\n",
       "2 &               2.0000 &               1.0000 &               0.0000 &      0 \\\\\n",
       "3 &               2.0000 &               1.0000 &               0.0000 &      0 \\\\\n",
       "4 &              -0.2222 &               2.1667 &               1.1667 &      1 \\\\\n",
       "\\bottomrule\n",
       "\\end{tabular}\n",
       "\n",
       "\\medskip}"
      ],
      "text/plain": [
       "                     0                    1                    2  class\n",
       "0              -0.2222               2.1667               1.1667      1\n",
       "1               2.0000               1.0000               0.0000      0\n",
       "2               2.0000               1.0000               0.0000      0\n",
       "3               2.0000               1.0000               0.0000      0\n",
       "4              -0.2222               2.1667               1.1667      1"
      ]
     },
     "metadata": {},
     "output_type": "display_data"
    }
   ],
   "source": [
    "knn = neighbors.KNeighborsClassifier(n_neighbors=5)\n",
    "ovo_knn = skmulti.OneVsOneClassifier(knn)\n",
    "pred_scores = (ovo_knn.fit(iris_train_ftrs, iris_train_tgt).decision_function(iris_test_ftrs)) # return the result sum for each class\n",
    "df = pd.DataFrame(pred_scores)\n",
    "df['class'] = df.values.argmax(axis=1) # the winnin class is the max sum\n",
    "display(df.head())"
   ]
  },
  {
   "cell_type": "markdown",
   "id": "0238e0ae",
   "metadata": {},
   "source": [
    "#  Precision-Recall Curves\n",
    "Just as we can look at the tradeoffs between sensitivity and specificity with ROC curves,\n",
    "we can evaluate the tradeoffs between precision and recall."
   ]
  },
  {
   "cell_type": "markdown",
   "id": "515e4d89",
   "metadata": {},
   "source": [
    "steps:\n",
    "1. Train a model.\n",
    "2. Get classification scores for each example.\n",
    "3. Create a blank table for each pairing of classes.\n",
    "4. For each pair of classes c1 and c2:\n",
    "    * Find AUC of c1 against c2.\n",
    "    * Find AUC of c2 against c1.\n",
    "    * Entry for c1, c2 is the average of these AUCs.\n",
    "5. Overall value is the average of the entries in the table."
   ]
  },
  {
   "cell_type": "markdown",
   "id": "05442b4c",
   "metadata": {},
   "source": [
    "##  A Note on Precision-Recall Tradeoff\n",
    "There is a very important difference between the sensitivity-specificity curve and the\n",
    "precision-recall curve. With sensitivity-specificity, the two values represent portions of the\n",
    ".row totals. The tradeoff is between performance on real-world positives and negatives."
   ]
  },
  {
   "cell_type": "markdown",
   "id": "1fad384b",
   "metadata": {},
   "source": [
    "With precision-recall, we are dealing a column piece and a row piece out of the confusion matrix. So, they can vary more independently of each other More importantly, an increasing precision does not imply an increasing recall."
   ]
  },
  {
   "cell_type": "markdown",
   "id": "7a11e646",
   "metadata": {},
   "source": [
    "In this example we have percision = 0.5 and recall = 0.5 for the +ve class\n",
    "\n",
    "<div>\n",
    "<img src=\"pdfs/8.png\" width=\"200\" height=\"200\">\n",
    "</div>  \n",
    "\n",
    "consider what happens when we raise the threshold, We get more negtive prediction\n",
    "\n",
    "<div>\n",
    "<img src=\"pdfs/9.png\" width=\"200\" height=\"200\">\n",
    "</div>\n",
    " \n",
    " Our percision stays the same = 0.6 but the recall is now worse = 0.3"
   ]
  },
  {
   "cell_type": "markdown",
   "id": "0398c8ff",
   "metadata": {},
   "source": [
    "##  Constructing a Precision-Recall Curve (PRC)\n",
    "Similar to ROC but here we want both values to high (100%)"
   ]
  },
  {
   "cell_type": "code",
   "execution_count": 25,
   "id": "59458471",
   "metadata": {},
   "outputs": [
    {
     "data": {
      "image/png": "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\n",
      "text/plain": [
       "<Figure size 432x216 with 1 Axes>"
      ]
     },
     "metadata": {
      "needs_background": "light"
     },
     "output_type": "display_data"
    }
   ],
   "source": [
    "fig,ax = plt.subplots(figsize=(6, 3))\n",
    "for cls in [0, 1, 2]:\n",
    "    precision, recall, thr = metrics.precision_recall_curve(im_test_tgt[:,cls], pred_probs[:,cls])\n",
    "    prc_auc = metrics.auc(recall, precision)\n",
    "    label = \"Class {} vs Rest (AUC) = {:.2f})\".format(cls, prc_auc)\n",
    "    ax.plot(recall, precision, 'o--', label=label)\n",
    "ax.legend()\n",
    "ax.set_xlabel('Recall')\n",
    "ax.set_ylabel('Precision');"
   ]
  },
  {
   "cell_type": "markdown",
   "id": "2bcef779",
   "metadata": {},
   "source": [
    "The PRC for class 0 is perfect"
   ]
  },
  {
   "cell_type": "markdown",
   "id": "2439bb15",
   "metadata": {},
   "source": [
    "# 6.7 More Sophisticated Evaluation of Classifiers: Take Two"
   ]
  },
  {
   "cell_type": "markdown",
   "id": "2ddc2c83",
   "metadata": {},
   "source": [
    "## Binary"
   ]
  },
  {
   "cell_type": "code",
   "execution_count": 26,
   "id": "1d98c78e",
   "metadata": {},
   "outputs": [],
   "source": [
    "classifiers = {'base' : baseline,\n",
    "                'gnb' : naive_bayes.GaussianNB(),\n",
    "                '3-NN' : neighbors.KNeighborsClassifier(n_neighbors=10),\n",
    "                '10-NN' : neighbors.KNeighborsClassifier(n_neighbors=3)}"
   ]
  },
  {
   "cell_type": "code",
   "execution_count": 27,
   "id": "bc911e99",
   "metadata": {},
   "outputs": [],
   "source": [
    "# define the one_class iris problem so we don't have random ==1 around\n",
    "iris_onec_ftrs = iris.data\n",
    "iris_onec_tgt = iris.target == 1"
   ]
  },
  {
   "cell_type": "code",
   "execution_count": 34,
   "id": "b76bca1b",
   "metadata": {},
   "outputs": [
    {
     "data": {
      "image/png": "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\n",
      "text/plain": [
       "<Figure size 720x576 with 3 Axes>"
      ]
     },
     "metadata": {
      "needs_background": "light"
     },
     "output_type": "display_data"
    }
   ],
   "source": [
    "msrs = ['accuracy', 'average_precision', 'roc_auc']\n",
    "\n",
    "fig, axes = plt.subplots(len(msrs), 1, figsize=(10, 8))\n",
    "fig.tight_layout()\n",
    "\n",
    "# each iteration will work with one classifier and get compute the 3 metrics for every cv (10 values for metric)\n",
    "for mod_name, model in classifiers.items():\n",
    "    cvs = skms.cross_val_score\n",
    "    cv_results = {msr:cvs(model, iris_onec_ftrs, iris_onec_tgt,scoring = msr, cv=10) for msr in msrs} # {metric : array of 10 }\n",
    "    \n",
    "    # each iteration will plot one metric on one axis (at the end w'll have three plots with metric n)\n",
    "    for ax, msr in zip(axes, msrs):\n",
    "        msr_results = cv_results[msr]\n",
    "        my_lbl = \"{:12s} {:.3f} {:.2f}\".format(mod_name, msr_results.mean(), msr_results.std()) # the box at the bottom\n",
    "        ax.plot(msr_results, 'o--', label=my_lbl) # plot the 10 metric for every cv ( x axis is 1->10 and y = val)\n",
    "        ax.set_title(msr)\n",
    "        ax.legend(loc='lower center', ncol=2)"
   ]
  },
  {
   "cell_type": "markdown",
   "id": "f861db87",
   "metadata": {},
   "source": [
    "To see more details on where the precision comes from or what the ROC curves look\n",
    "like, we need to peel back a few layers"
   ]
  },
  {
   "cell_type": "code",
   "execution_count": 36,
   "id": "7fe9e394",
   "metadata": {},
   "outputs": [
    {
     "data": {
      "image/png": "iVBORw0KGgoAAAANSUhEUgAAARIAAAEnCAYAAABlgMw9AAAAOXRFWHRTb2Z0d2FyZQBNYXRwbG90bGliIHZlcnNpb24zLjQuMywgaHR0cHM6Ly9tYXRwbG90bGliLm9yZy/MnkTPAAAACXBIWXMAAAsTAAALEwEAmpwYAAAhiklEQVR4nO3dd3wUdf7H8ddns5TQS2gBRAWxcCpqQOwgSLErZzvwVEQsWPDUw5+iHsqdnp4eiF0QbCCooJ4UUaRYkKIgImABUapIDQQEknx/f+yCEVM2mZ2dbPJ+Ph77YHZmduYz+S7vne/s7Iw55xAR8SIUdAEikvwUJCLimYJERDxTkIiIZwoSEfFMQSIinilIisHMVphZp6DrkORmZiPNbFDQdcSTgkREPFOQiIhnCpLia2Nmi81ss5mNMLPKZlbbzN41s1+i4981syZ7X2BmV5rZcjPbZmY/mFmPPNN6mdmS6OveM7NmwWyWFJeZHWtm86Pt+rqZjTGzQWbW3sxWmdltZrbezNaa2VX7vTzNzN6PvnZGsre7gqT4egBdgOZAS2AAkb/jCKAZcACwE3gCwMyqAo8D3Zxz1YETgQXRaecDdwEXAvWAj4DRCdsSKTEzqwiMB0YCdYi02wV5ZmkI1AQaA1cDT5pZ7TzTewAPAGlE3g+v+l60n5xzesT4AFYA1+V5fiawLJ/5WgObo8NVgS1AdyB1v/kmAVfneR4CdgDNgt5WPYp8L5wKrAYsz7iPgUFAeyIfJuE809YD7aLDI4HX8kyrBuQATYPerpI+tEdSfCvzDP8IpJtZFTN71sx+NLNMYCZQy8xSnHNZwCXAdcBaM5tgZodFX98MGGJmW8xsC7AJMCKfYlK6pQOrXTQJovK+NzY657LzPN9BJDD+MK9zbjuRtk/3o9BEUJAUX9M8wwcAa4DbgEOB451zNYh8WkEkFHDOveecOwNoBCwFno9OXwlc65yrleeR6pz7NBEbIp6sBRqbmeUZ17SgmfOxb14zq0ake7QmTrUlnIKk+PqaWRMzq0Pk+MYYoDqRXdkt0fH37Z3ZzBqY2bnRYyW7gO1EdmMBngH+z8xaReetaWYXJXBbpORmEWnHG80sbGbnAW2L8fozzezk6LGWB4DZzrmVRb2otFKQFN8oYAqwPPoYBAwGUoENwGfA5Dzzh4jssawhsvt6GnADgHNuPPBv4LVol2gR0C0RGyHeOOd2EzlIfjWRY2A9gXeJfFjEYhSRD5xNwHFEDr4mLft9F09ESsrMZgPPOOdGBF1LommPRKSEzOw0M2sY7dpcARzF7/dGy41w0AWIJLFDgbFEvo1ZBvzZObc22JKCoa6NiHimro2IeKYgERHPSu0xkj0blpeZPldq+ilBlxAX2btXW9FzxYfav/QprP21RyIinilIRMQzBYmIeKYgERHPFCQi4pmCREQ8U5CIiGcKEhHxTEEiIp4pSETEMwWJiHimIBERzxQkIuKZgkREPFOQiIhnChIR8UxBIiKeKUhExDMFiYh4VqaDZMC/HuPUsy7l/J7X7Ru3NXMbvW+5izMvuZret9zF1sxt+6Y9/9IYul3ci7Mv7c0nsz8PouRi69K5PV8vmsnSxR/z9zv6Bl1Oqfby2Lc4v+d1nNfjWl4eMx6Aoc+9xAV/vZ7uV/Tlmn53sf6XjQFXWTwtWzZn3twp+x6bNizl5pt6J7yOMh0k5595Bs88Nuh344a9PJZ2Ga2ZOGY47TJaM/yVsQAs++FHJk2dwduvPMMzjw3igf88QU5OTn6LLTVCoRCPD/knZ5/TkyOP7sAll5zP4YcfEnRZpdJ3y1fw5juTGT1sMG+++BQzPp3DjytXc1WP7ox/6WnefPFJTjvpeJ4eMSroUovl22+XkdGmMxltOtP2+K7s2LGTt96elPA6ynSQZLQ+kpo1qv9u3LSPZnFet04AnNetEx/OnAXAhx99RreOp1GxYkWapDfkgCbpfLXk24TXXBxt2xzDsmUr+OGHn9izZw9jx77Nued0CbqsUmn5ipUc1eowUitXJhxOIaP1kUyd+SnVqlbdN8/Onb9iCbtOfvx1PP1kli//kZ9+Wp3wdZfpIMnPxs1bqJdWB4B6aXXYtGUrAOt/2UjDBvX2zdegfhrrf9kQSI2xSm/ckJWr1ux7vmr1WtLTGwZYUenV4uBmfP7lIrZszWTnr7/y0ay5rPv5FwCGPDuSjhdczoQp07ix9+UBV1pyF198Hq+NeSuQdft2XxszOww4D2gMOGAN8I5zbolf6/TC8cfbqBil++PJ8vn41C1Y89f8wAPo1eMirul3F1VSU2nZ4mBSUlIAuOXaK7nl2it5/qUxjHrzf0kZJhUqVOCcsztz94AHA1m/L3skZtYfeA0wYA4wNzo82szuLOR1fcxsnpnNG/bSaD9Ko27tWvyyYRMAv2zYRJ1aNQFoUC9t3ycUwM/rN1CvXl1faoiX1avW0rRJ+r7nTRo3Yu3anwOsyBu/27/7OV14fcQTvPjUI9SsUZ1mTRv/bvpZndvzwfRP4r7eROjatQPz53/F+vXB7EX71bW5GmjjnHvIOfdK9PEQ0DY6LV/OueeccxnOuYzef73Ml8Lan9yOtyd9AMDbkz6gwyknANDh5HZMmjqD3bt3s2rNOn5atYYjD2/pSw3xMnfeAlq0OIgDD2xKhQoVuPji8/jfu1OCLqvE/G7/jZu3ALB23XqmzviEbp1O48eVvx1PmPbRZxzUrEnc15sIl15yfmDdGvCva5MLpAM/7je+UXRaQtxx30PMnb+QLVsy6Xh+T264+nJ6X34xt93zL8a9+x6NGtTjsUF3A5E+dJfTT+HcHtcSTknh7r/dsG/Xt7TKycnhln4DmDhhFCmhECNfHMPixaX7AHGQbr1rEFsyMwmHw9x92w3UrFGd+x4awoqfVmEhI71hfe6946agyyy21NTKdOp4Ktff0D+wGsyPPrWZdQWeAL4DVkZHHwC0AG50zk0uahm692vpo3v/lkx5aH9f9kicc5PNrCWRrkxjIsdHVgFznXOl++QMESk23761cc7lAp/5tXwRKT3K3XkkIhJ/ChIR8UxBIiKeKUhExDMFiYh4piAREc8UJCLiWYHnkZjZUMjnJ7FRzrmbfalIRJJOYSekzUtYFSKS1AoMEufci4ksRESSV5GnyJtZPaA/cARQee9459zpPtYlIkkkloOtrwJLgIOAgcAKIhcqEhEBYguSus654cAe59wM51wvoJ3PdYlIEonl1797ov+uNbOziFx7NTkvIyUivoglSAaZWU3gNmAoUAO41deqRCSpFBkkzrl3o4NbgQ7+liMiySiWb21GkM+JadFjJSIiMXVt3s0zXBm4gMhxEhERILauzZt5n5vZaOAD3yoSkaRTkmu2HkLkivC++rL13/xehZRiVRufGnQJcfNiWtk/tBjLMZJt/P4YyToiZ7qKiACxdW2qJ6IQEUleRZ7ZamZTYxknIuVXYdcjqQxUAdLMrDaRm1xB5IS09IJeJyLlT2Fdm2uBfkRC43N+C5JM4El/yxKRZFLY9UiGAEPM7Cbn3NAE1iQiSSaWX//mmlmtvU/MrLaZ3eBfSSKSbGIJkmucc1v2PnHObQau8a0iEUk6sQRJyMz2Hh/BzFKAiv6VJCLJJpYzW98DxprZM0ROTLsOmORrVSKSVGIJkv5AH+B6It/czAca+VmUiCSXIrs2zrlc4DNgOZABdCRyDVcREaDwE9JaApcClwEbgTEAzrmy/wskESmWwro2S4GPgHOcc98DmJkusSgif1BY16Y7kV/6TjOz582sI7+d3Soisk+BQeKcG++cuwQ4DJhO5ILPDczsaTPrnKD6RCQJxHKwNcs596pz7mwit6FYANzpd2EikjxiOSFtH+fcJufcs7pdp4jkVawgERHJj4JERDwrycWfk9aRs54jJ2sn5OTisnNYctbtpNSqRvOnbqdi0/rsXrmeZdc/Qs7WrKBLjVmXzu157LH7SQmFeGHEaB5+RJeKicXNN/em11WX4Zxj0aKl9L7mNnbt2hV0WTGzkNF18gPsXLuZ6Vc8yjH3XEbjM44hd3c2239cz6xbn2NP5o6E1VPu9ki+vWgAi7vcypKzbgegUd/uZH6ykEWn3EDmJwtp2Ld7wBXGLhQK8fiQf3L2OT058ugOXHLJ+Rx++CFBl1Xqpac3pG/fXrQ74SyOObYTKSkpXHzxuUGXVSyH9u5K5ne/3V5q7cyvmNDhTiZ2uovM5WtpddM5Ca2n3AXJ/mp1bsvG16cBsPH1adTucnzAFcWubZtjWLZsBT/88BN79uxh7Ni3OfecLkGXlRTCKWFSUyuTkpJCapVU1q79OeiSYpbaqA6NO7bm+1HT941bN2MRLicXgA2fL6NKozoJral8BYlzHDLqHxw+8VHSekROhQmn1WLP+s0A7Fm/mXDdmkFWWCzpjRuyctVvn0qrVq8lPb1hgBUlhzVr1vHfwc+y7PvZ/PTjF2Ru3cYHH8wMuqyYZQzsyfxBo3G5f7iTLgDNLzuVNR8uTGhNCQ8SM7uqkGl9zGyemc0bl7Ui7uteesGdLOl2G99dfj/1r+hGteOPiPs6EinPZWL2cS7/N1cyyNv+uTn+HaeqVasm55zdmZaHnkCzA4+jatVU/nLZhb6tL54ad2rNrxsy2fTVinynt7r5XFx2LivGfZLQuoLYIxlY0ATn3HPOuQznXMaFVQ+M+4r3/BzZ88jeuJUtk2dTtfUhZG/YQoX6tQGoUL822Ru3xn29flm9ai1Nm/x2Qf8mjRsl1S76/vK2fyilqm/r6Xj6yaxYsZINGzaRnZ3NW29Not0Jx/m2vniq16YlTTofy3mz/8vJT/elwclHcOLQ6wE46KJTaNzpGD658amE1+XLtzZmVtB+lQEN/FhnUUKplSBk5Gb9Sii1EjVObc2awWPY8v4c6l7UgXVPjqPuRR3YMmVOEOWVyNx5C2jR4iAOPLApq1ev4+KLz+Pyv/YNuqxS76eVazj++GNITa3Mzp2/0qHDyXz+RWK7AiW14MGxLHhwLAD1TzicI647k09veppG7Y+iVd+zef/CQeTs3J3wuvz6+rcB0AXYvN94Az71aZ2FCterRYthkTP7LSWFTW/NJHP6fLIWfE/zZ+4g7dJO7F69gWXXPRxEeSWSk5PDLf0GMHHCKFJCIUa+OIbFi78NuqxSb+7c+YwbN5E5syeTnZ3NggVfM2zYq0GX5Umbf15BqFKY08dE3uMbP/+eOXeOSNj6zY8+tZkNB0Y45z7OZ9oo59xfilrGvCbnJ29nfz/t1s8NuoS4yN69OmG//q5YqUmZaf8RddsHXUJc9FjzSoHt78seiXPu6kKmFRkiIpJcytfXvyLiCwWJiHimIBERzxQkIuKZgkREPFOQiIhnChIR8UxBIiKeKUhExDMFiYh4piAREc8UJCLimYJERDxTkIiIZwoSEfFMQSIinilIRMQzBYmIeKYgERHPFCQi4pkvV5FPFmbWxzn3XNB1xENZ2pZEKUt/s6C3pbzvkfQJuoA4Kkvbkihl6W8W6LaU9yARkThQkIiIZ+U9SMpE/ziqLG1LopSlv1mg21KuD7aKSHyU9z0SEYkDBYmIeKYgERHPFCQi4pmCREQ8U5CIiGcKEhHxTEEiIp4pSETEMwWJiHimIBERzxQkxWRmr5jZWjPLNLNvzax3IfOuMLOfzaxqnnG9zWx6nufOzL4ys1CecYPMbKRf2yCxMbMbzWyeme3avz3MrKOZLTWzHWY2zcyaFbKc9tF2fnK/8R+b2ZXR4Suj89yx3zyrzKx9vLbJLwqS4nsQONA5VwM4FxhkZscVMn8YuKWIZaYDl8apPomfNcAg4IW8I80sDRgH3APUAeYBY4pYVhbwVzM7sJB5NgH9zaxGSQsOioKkmJxzXzvndu19Gn00L+QljwC3m1mtQuZ5GBhoZuH4VCnx4Jwb55x7C9i436QLga+dc687534F/gEcbWaHFbK4LcBI4L5C5lkCzAJuLWHJgVGQlICZPWVmO4ClwFpgYiGzzwOmA7cXMs84IBO4Mk4lir9aAV/ufeKcywKWRccX5p9AdzM7tJB57gFuNbM6nqtMIAVJCTjnbgCqA6cQCYFdhb+Ce4GbzKxeQYsk8ga618wqxa1Q8Us1YOt+47YSeU8UyDm3DngGuL+QeRYAU4D+3kpMLAVJCTnncpxzHwNNgOvNbJKZbY8+euw37yLgXeDOQpY3EfiJsnVB4rJqO7D/cYwawDYzOyDP+2B7Pq/9N9DFzI4uZPn3EnlPNYxTvb5Tn9y7MNDcOdetiPnuA74AHi1kngHAa8CoONUm/vgauGLvk+i3cs2JHDf5icgeS76ccxvNbDDwQCHzLDWzccBdcavYZ9ojKQYzq29ml5pZNTNLMbMuwGXAh0W91jn3PZEj+zcXMs904CvyvEklOGYWNrPKQAqQYmaVowfExwN/MrPu0en3Agudc0tjXPRjwInA4YXMMxC4CqhV4g1IIAVJ8TjgemAVsBn4D9DPOfd2jK+/H6haxDwDiHylKMEbAOwk0iXtGR0e4Jz7BehO5ODpZuB4ivH1vXMuk8g3dQW2s3PuB+Blin6/lAq6+LOIeKY9EhHxTEEiIp4pSETEMwWJiHimIBERz0rtCWl7NiwvM18npaafEnQJcZG9e7Ulal1q/9KnsPbXHomIeKYgERHPFCQi4pmCREQ8U5CIiGcKEhHxTEEiIp4pSETEMwWJiHimIBERzxQkIuKZgkREPFOQiIhnChIR8UxBIiKeKUhExDMFiYh4piAREc8UJCLimYJERDwrtRd/9sPLY9/izXcm45zjz+d25fJLLmDpt8u4/5Gh7Nq9h5SUFO65vS9HHnFo0KXGrEmTdEa+MIQGDeuRm5vLsGGvMvSJ4UGXVSrl1/633fMgK35aBcC27dupXq0ab774ZMCVxqZSpUpM//BNKlaqRDicwrhxExh4/6OB1FJuguS75St4853JjB42mArhClx32wBOPbEtjz41nOt79eCUE9ow89M5PPrUcEY+8XDQ5cYsOzubO/4+kPkLFlGtWlXmzJ7MB1NnsmTJd0GXVqoU2P4P/N++eR4Z+jzVqlYJsMri2bVrF506X0xW1g7C4TAzp49n8uRpzJ7zRcJrKTddm+UrVnJUq8NIrVyZcDiFjNZHMnXmp5gZ27N2ALA9awf10+oGXGnxrFu3nvkLFgGwfXsWS5d+R+P0hgFXVfoU1P57OeeY/OFMzjyjfXBFlkBW9L1boUKYcIUKOBfMXTx8CxIzO8zM+pvZ42Y2JDp8uF/rK0qLg5vx+ZeL2LI1k52//spHs+ay7udf6H/LtTz61HA6XnA5/3liGP2uuzKoEj1r1qwJrY/+E7PnzA+6lFKnoPbf6/MvF1G3dm2aNW0cYJXFFwqFmDd3CmtXL2Tq1JnMmRtM2/sSJGbWH3gNMGAOMDc6PNrM7izkdX3MbJ6ZzRv20ui41tT8wAPo1eMirul3F9f97R5atjiYlJQUxoyfQP+b+jB1/Mv8/eY+3Pvg4LiuN1GqVq3C2DHP87fb72Pbtu1Bl1MiQbT/XhPfn86ZZ5wW13UmQm5uLhltOtPsoAzaZBxDq1bBHN8zP3aFzOxboJVzbs9+4ysCXzvnDilqGX7faW3wMyNpWD+Nwc+MYNZ7b2BmOOdo17k7s98fF9d1+X2ntXA4zDtvvciU92cweMhzvq2nLN1pb2/7X3rh2WRn53D6+T0Z+8LjNKxfL+7rStSd9u4ZcCtZWTt47L/P+rL8IO60lwuk5zO+UXRaIDZu3gLA2nXrmTrjE7p1Oo16aXWZO/8rAGZ/viDpdm0Bnn/uUZYs/d7XECkL8mt/gM/mzefgZk18CRE/paXVoWbNGgBUrlyZjqefwjffLAukFr++tekHTDWz74CV0XEHAC2AG31aZ5FuvWsQWzIzCYfD3H3bDdSsUZ2B/W/moSHPkp2TQ6WKFbnv7zcHVV6JnHRiGy7v+WcWfrWYeXOnAHDPPQ8xafKHAVdW+uTX/gCTPphBt07tgy2uBBo1asALwweTkhIiFArxxhv/Y8LEDwKpxZeuDYCZhYC2QGMix0dWAXOdczmxvF43kS59ylLXJpHKQ/v7dh6Jcy4X+Myv5YtI6VFuziMREf8oSETEMwWJiHimIBERzxQkIuKZgkREPFOQiIhnBZ5HYmZDgQJPCnLOJdcpoCLim8JOSJuXsCpEJKkVGCTOuRcTWYiIJK8iT5E3s3pAf+AIoPLe8c65032sS0SSSCwHW18FlgAHAQOBFUQuVCQiAsQWJHWdc8OBPc65Gc65XkA7n+sSkSQSy69/917lbK2ZnQWsAZr4V5KIJJtYgmSQmdUEbgOGAjWAW32tSkSSSpFB4px7Nzq4Fejgbzkikoxi+dZmBPmcmBY9ViIiElPX5t08w5WBC4gcJxERAWLr2ryZ97mZjQaCucKsiJRKJblm6yFErgjvqxpNy87hmEm1Tw66hKRTVi6YDDCl9klBl+C7WI6RbOP3x0jWETnTVUQEiK1rUz0RhYhI8iryzFYzmxrLOBEpvwq7HklloAqQZma1idzkCiInpOV3O04RKacK69pcS+TWm+nA5/wWJJnAk/6WJSLJpLDrkQwBhpjZTc65oQmsSUSSTCy//s01s1p7n5hZbTO7wb+SRCTZxBIk1zjntux94pzbDFzjW0UiknRiCZKQme27C7mZpQAV/StJRJJNLGe2vgeMNbNniJyYdh0wydeqRCSpxBIk/YE+wPVEvrmZDzTysygRSS5Fdm2cc7nAZ8ByIAPoSOQariIiQOEnpLUELgUuAzYCYwCcc2Xn13QiEheFdW2WAh8B5zjnvgcwM11iUUT+oLCuTXciv/SdZmbPm1lHfju7VURknwKDxDk33jl3CXAYMJ3IBZ8bmNnTZtY5QfWJSBKI5WBrlnPuVefc2URuQ7EAuNPvwkQkecRyQto+zrlNzrlndbtOEcmrWEEiIpIfBYmIeFaSiz+XGaFQiE8+eZc1a9bRvXuS3aYnZBw/5UF2rdvEgp4PA9D06q407dUFl53Dhg/m890DrwZcZOlUqVIlpn/4JhUrVSIcTmHcuAkMvP/RoMsqnpDRZspD7Fq3iYU9/02r5/pRpXnkemPhGlXIztzB3I5/T1g55TpIbryxF9988z3Vq1cLupRiO+CaM8n6bjXh6qkA1D6pFfW6ZjCrwx243dlUSKsRcIWl165du+jU+WKysnYQDoeZOX08kydPY/acL4IuLWZN92v/r/sM3jetxT8uJztzR0LrKbddm8aNG9K16+mMGPFa0KUUW6VGdUg74xhWv/rhvnFNrjiDFUPfxu3OBmDPhsygyksKWVmR/2gVKoQJV6iAc3+4mWSpValRHeqecSxrX83/0sn1zz2Bn8d/ktCaym2QPPLIfdx997/Izc0NupRiO/SBK/ju/lch97c3f9Xmjah1/GG0nTSIjPH3UaN18wArLP1CoRDz5k5h7eqFTJ06kzlz5wddUswOeeBKlt3/Ci73j+FXq93h7P5lKzt/WJfQmhIeJGZ2VaLXub9u3U5n/fqNzJ+/KOhSii3tjGPZvSGTbQt/+N14C6dQoVZV5nQbwLf3v8JRz/cLpsAkkZubS0abzjQ7KIM2GcfQqtWhQZcUk7pnHMvuDVv/0P571b/gpITvjUAwx0gGAiPym2BmfYhcsoBwuA7hsD/HLk44IYOzz+5E167tqVSpEjVqVOeFFwbTq1c/X9YXT7XaHkq9LseR1rE1ocoVCVdL5U9P3sivazayfsIcADLnL8Pl5lKhbnX2bNwWcMWxy9v+llKTUKiq7+vcujWTGTM/pUvn9nz99Te+r8+rmm0PJa1LBnU7HrOv/Y948iYW9x2KpYSof1Zb5p6R+PNFzY++oZktLGgS0NI5V6moZaSmNktIp/WUU9rRr18fX7+1eadGO1+WW/vEI2h2w9ks6PkwTf7aiUoNa7Ps4depcnAjjntjAB8d2zeu6zvj5zEJ+61VuGJj39o/La0Oe/Zks3VrJpUrV2byxFE88p+nmDDRn1ta+3XLzlonHsEBN5zDwp7/BqBOh6NpdvMFzL/gH76s7/SfxxbY/n7tkTQAugCb9xtvwKc+rbNcWz16Gq0GX88JM/5D7u5sFt38VNAllVqNGjXgheGDSUkJEQqFeOON//kWIonU4PxgujXg3x7JcGCEc+7jfKaNcs79pahlJGqPJBH82iNJtLKyR5JoZeUm4gnfI3HOXV3ItCJDRESSS7n9+ldE4kdBIiKeKUhExDMFiYh4piAREc8UJCLimYJERDxTkIiIZwoSEfFMQSIinilIRMQzBYmIeKYgERHPFCQi4pmCREQ8U5CIiGcKEhHxTEEiIp4pSETEMwWJiHjmy1Xkk4WZ9XHOPRd0HfFQlrYlUcrS3yzobSnveyR9gi4gjsrStiRKWfqbBbot5T1IRCQOFCQi4ll5D5Iy0T+OKkvbkihl6W8W6LaU64OtIhIf5X2PRETioNwGiZl1NbNvzOx7M7sz6HpKysxeMLP1ZrYo6FqSido/vsplkJhZCvAk0A04ArjMzI4ItqoSGwl0DbqIZKL2j79yGSRAW+B759xy59xu4DXgvIBrKhHn3ExgU9B1JBm1f5yV1yBpDKzM83xVdJyUD2r/OCuvQWL5jNPXV+WH2j/OymuQrAKa5nneBFgTUC2SeGr/OCuvQTIXOMTMDjKzisClwDsB1ySJo/aPs3IZJM65bOBG4D1gCTDWOfd1sFWVjJmNBmYBh5rZKjO7OuiaSju1vw916MxWEfGqXO6RiEh8KUhExDMFiYh4piAREc8UJCLimYIkysxyzGyBmS0ys9fNrIqHZY00sz9Hh4cV9oMwM2tvZieWYB0rzCytpDXK76n9vVGQ/Ganc661c+5PwG7gurwTo78YLTbnXG/n3OJCZmkPFPuNJHGn9vdAQZK/j4AW0U+LaWY2CvjKzFLM7BEzm2tmC83sWgCLeMLMFpvZBKD+3gWZ2XQzy4gOdzWzL8zsSzObamYHEnnD3hr9NDzFzOqZ2ZvRdcw1s5Oir61rZlPMbL6ZPUv+vxeR+FD7F5dzTo/ISXnbo/+GgbeB64l8WmQBB0Wn9QEGRIcrAfOAg4ALgfeBFCAd2AL8OTrfdCADqEfkF6d7l1Un+u8/gNvz1DEKODk6fACwJDr8OHBvdPgsIj8ySwv671ZWHmp/b49w4TFTrqSa2YLo8EfAcCK7nHOccz9Ex3cGjtrb/wVqAocApwKjnXM5wBoz+zCf5bcDZu5dlnOuoGtIdAKOMNv3gVPDzKpH13Fh9LUTzGxzyTZTCqD290BB8pudzrnWeUdEGzMr7yjgJufce/vNdyZF/wzdYpgHIt3NE5xzO/OpRb9n8I/a3wMdIyme94DrzawCgJm1NLOqwEzg0mgfuhHQIZ/XzgJOM7ODoq+tEx2/DaieZ74pRH5QRnS+1tHBmUCP6LhuQO14bZTETO1fAAVJ8QwDFgNfWORiu88S2asbD3wHfAU8DczY/4XOuV+I9LHHmdmXwJjopP8BF+w92AbcDGRED+Yt5rdvDwYCp5rZF0R2sX/yaRulYGr/AujXvyLimfZIRMQzBYmIeKYgERHPFCQi4pmCREQ8U5CIiGcKEhHxTEEiIp79Pw+rkxsekOS6AAAAAElFTkSuQmCC\n",
      "text/plain": [
       "<Figure size 288x288 with 4 Axes>"
      ]
     },
     "metadata": {
      "needs_background": "light"
     },
     "output_type": "display_data"
    }
   ],
   "source": [
    "fig, axes = plt.subplots(2, 2, figsize=(4, 4), sharex=True, sharey=True) # 2*2 plots\n",
    "fig.tight_layout()\n",
    "\n",
    "# first iter -- > 0, ('base' , baseline)\n",
    "#\n",
    "#\n",
    "# last iter -- > 4,('10-NN' : neighbors.KNeighborsClassifier(n_neighbors=3)\n",
    "\n",
    "for ax, (mod_name, model) in zip(axes.flat, classifiers.items()): \n",
    "    preds = skms.cross_val_predict(model, iris_onec_ftrs, iris_onec_tgt, cv=10)\n",
    "\n",
    "    cm = metrics.confusion_matrix(iris.target==1, preds)\n",
    "    sns.heatmap(cm, annot=True, ax=ax, cbar=False, square=True, fmt=\"d\")\n",
    "    ax.set_title(mod_name)\n",
    "    \n",
    "axes[1, 0].set_xlabel('Predicted')\n",
    "axes[1, 1].set_xlabel('Predicted')\n",
    "axes[0, 0].set_ylabel('Actual')\n",
    "axes[1, 0].set_ylabel('Actual');"
   ]
  },
  {
   "cell_type": "markdown",
   "id": "9ccea72b",
   "metadata": {},
   "source": [
    "## A Novel Multiclass Problem"
   ]
  },
  {
   "cell_type": "code",
   "execution_count": null,
   "id": "7eea2bf5",
   "metadata": {},
   "outputs": [],
   "source": []
  }
 ],
 "metadata": {
  "kernelspec": {
   "display_name": "Python 3 (ipykernel)",
   "language": "python",
   "name": "python3"
  },
  "language_info": {
   "codemirror_mode": {
    "name": "ipython",
    "version": 3
   },
   "file_extension": ".py",
   "mimetype": "text/x-python",
   "name": "python",
   "nbconvert_exporter": "python",
   "pygments_lexer": "ipython3",
   "version": "3.9.7"
  }
 },
 "nbformat": 4,
 "nbformat_minor": 5
}
