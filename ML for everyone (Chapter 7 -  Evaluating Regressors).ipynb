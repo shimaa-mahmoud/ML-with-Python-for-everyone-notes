{
 "cells": [
  {
   "cell_type": "code",
   "execution_count": 1,
   "id": "9c1320f7",
   "metadata": {},
   "outputs": [],
   "source": [
    "# setup\n",
    "from mlwpy import *\n",
    "%matplotlib inline"
   ]
  },
  {
   "cell_type": "code",
   "execution_count": 2,
   "id": "90fcc8b9",
   "metadata": {},
   "outputs": [],
   "source": [
    "diabetes = datasets.load_diabetes()\n",
    "\n",
    "tts = skms.train_test_split(diabetes.data,\n",
    "                            diabetes.target,\n",
    "                            test_size=.25,\n",
    "                            random_state=42)\n",
    "\n",
    "(diabetes_train_ftrs, diabetes_test_ftrs, diabetes_train_tgt, diabetes_test_tgt) = tts"
   ]
  },
  {
   "cell_type": "markdown",
   "id": "bac1e36e",
   "metadata": {},
   "source": [
    "#  Baseline Regressors\n",
    "We’ve already been exposed to predicting the **middle** value, we can easily create baseline models that predict the **mean** and the **median**, We can also pick arbitrary **constant** <br>\n",
    "A last option, `quantile`, To get the n% point of the data( median is 50% point)"
   ]
  },
  {
   "cell_type": "code",
   "execution_count": 3,
   "id": "93bd387a",
   "metadata": {},
   "outputs": [
    {
     "data": {
      "text/html": [
       "<div>\n",
       "<style scoped>\n",
       "    .dataframe tbody tr th:only-of-type {\n",
       "        vertical-align: middle;\n",
       "    }\n",
       "\n",
       "    .dataframe tbody tr th {\n",
       "        vertical-align: top;\n",
       "    }\n",
       "\n",
       "    .dataframe thead th {\n",
       "        text-align: right;\n",
       "    }\n",
       "</style>\n",
       "<table border=\"1\" class=\"dataframe\">\n",
       "  <thead>\n",
       "    <tr style=\"text-align: right;\">\n",
       "      <th></th>\n",
       "      <th>mse</th>\n",
       "    </tr>\n",
       "  </thead>\n",
       "  <tbody>\n",
       "    <tr>\n",
       "      <th>constant</th>\n",
       "      <td>14,657.6847</td>\n",
       "    </tr>\n",
       "    <tr>\n",
       "      <th>quantile</th>\n",
       "      <td>10,216.3874</td>\n",
       "    </tr>\n",
       "    <tr>\n",
       "      <th>mean</th>\n",
       "      <td>5,607.1979</td>\n",
       "    </tr>\n",
       "    <tr>\n",
       "      <th>median</th>\n",
       "      <td>5,542.2252</td>\n",
       "    </tr>\n",
       "  </tbody>\n",
       "</table>\n",
       "</div>"
      ],
      "text/latex": [
       "{\\centering\n",
       "\\begin{tabular}{lr}\n",
       "\\toprule\n",
       "{} &                  mse \\\\\n",
       "\\midrule\n",
       "constant &          14,657.6847 \\\\\n",
       "quantile &          10,216.3874 \\\\\n",
       "mean     &           5,607.1979 \\\\\n",
       "median   &           5,542.2252 \\\\\n",
       "\\bottomrule\n",
       "\\end{tabular}\n",
       "\n",
       "\\medskip}"
      ],
      "text/plain": [
       "                          mse\n",
       "constant          14,657.6847\n",
       "quantile          10,216.3874\n",
       "mean               5,607.1979\n",
       "median             5,542.2252"
      ]
     },
     "metadata": {},
     "output_type": "display_data"
    }
   ],
   "source": [
    "strategies = ['constant', 'quantile', 'mean', 'median']\n",
    "baseline_args = [{\"strategy\":s} for s in strategies]\n",
    "\n",
    "# additional args for constant and quantile\n",
    "baseline_args[0]['constant'] = 50.0  # baseline_args[0] = {'strategy': 'constant', 'constant': 50.0}\n",
    "baseline_args[1]['quantile'] = 0.75  # baseline_args[1] = {'strategy': 'quantile', 'quantile': 0.75}\n",
    "\n",
    "# process a single argument package (a dict)\n",
    "def do_one(**args):\n",
    "    baseline = dummy.DummyRegressor(**args)\n",
    "    baseline.fit(diabetes_train_ftrs, diabetes_train_tgt)\n",
    "    base_preds = baseline.predict(diabetes_test_ftrs)\n",
    "    return metrics.mean_squared_error(base_preds, diabetes_test_tgt)\n",
    "\n",
    "# gather all results via a list comprehension\n",
    "mses = [do_one(**bla) for bla in baseline_args]\n",
    "\n",
    "display(pd.DataFrame({'mse':mses}, index=strategies))"
   ]
  },
  {
   "cell_type": "markdown",
   "id": "fde642ed",
   "metadata": {},
   "source": [
    "# Additional Measures for Regression\n",
    "So far, we’ve used mean squared error as our measure of success—or perhaps more accurately, a measure of failure—in regression problems. We also modified MSE to the root mean squared error (RMSE) because the scale of MSE is a bit off compared to our\n",
    "predictions"
   ]
  },
  {
   "cell_type": "markdown",
   "id": "668c0b5f",
   "metadata": {},
   "source": [
    "##  Creating Our Own Evaluation Metric \n",
    "Generally, sklearn wants to work with scores, where bigger is better.So we’ll develop our new regression evaluation metric in three steps.\n",
    "1. We’ll define an error measure\n",
    "2. use the error to define a score, \n",
    "3. use the score to create a scorer\n",
    "\n",
    "Once we’ve defined the scorer function, we can simply pass the scorer with a scoring parameter to `cross_val_score`."
   ]
  },
  {
   "cell_type": "code",
   "execution_count": 4,
   "id": "513da637",
   "metadata": {},
   "outputs": [
    {
     "data": {
      "text/plain": [
       "array([-58.0034, -64.9886, -63.1431, -61.8124, -57.6243])"
      ]
     },
     "execution_count": 4,
     "metadata": {},
     "output_type": "execute_result"
    }
   ],
   "source": [
    "def rms_error(actual, predicted):\n",
    "    ' root-mean-squared-error function '\n",
    "    # lesser values are better (a < b means a is better)\n",
    "    mse = metrics.mean_squared_error(actual, predicted)\n",
    "    return np.sqrt(mse)\n",
    "\n",
    "def neg_rmse_score(actual, predicted):\n",
    "    ' rmse based score function '\n",
    "    # greater values are better (a < b means b better)\n",
    "    return -rms_error(actual, predicted)\n",
    "\n",
    "def neg_rmse_scorer(mod, ftrs, tgt_actual):\n",
    "    ' rmse scorer suitable for scoring arg '\n",
    "    tgt_pred = mod.predict(ftrs)\n",
    "    return neg_rmse_score(tgt_actual, tgt_pred)\n",
    "\n",
    "knn = neighbors.KNeighborsRegressor(n_neighbors=3)\n",
    "skms.cross_val_score(knn, diabetes.data, diabetes.target,\n",
    "                    cv=skms.KFold(5, shuffle=True),\n",
    "                    scoring=neg_rmse_scorer)"
   ]
  },
  {
   "cell_type": "markdown",
   "id": "d2574930",
   "metadata": {},
   "source": [
    "Remember that we are measuring scores not errors so we want the values to be high (closer to zero)"
   ]
  },
  {
   "cell_type": "markdown",
   "id": "1cc42a79",
   "metadata": {},
   "source": [
    "## Other Built-in Regression Metrics"
   ]
  },
  {
   "cell_type": "code",
   "execution_count": 5,
   "id": "417942e0",
   "metadata": {},
   "outputs": [
    {
     "name": "stdout",
     "output_type": "stream",
     "text": [
      "Return the coefficient of determination :math:`R^2` of the\n",
      "        prediction.\n",
      "\n",
      "        The coefficient :math:`R^2` is defined as :math:`(1 - \\frac{u}{v})`,\n",
      "        where :math:`u` is the residual sum of squares ``((y_true - y_pred)\n",
      "        ** 2).sum()`` and :math:`v` is the total sum of squares ``((y_true -\n",
      "        y_true.mean()) ** 2).sum()``. The best possible score is 1.0 and it\n",
      "        can be negative (because the model can be arbitrarily worse). A\n",
      "        constant model that always predicts the expected value of `y`,\n",
      "        disregarding the input features, would get a :math:`R^2` score of\n",
      "        0.0.\n",
      "\n",
      "        Parameters\n",
      "        ----------\n",
      "        X : array-like of shape (n_samples, n_features)\n",
      "            Test samples. For some estimators this may be a precomputed\n",
      "            kernel matrix or a list of generic objects instead with shape\n",
      "            ``(n_samples, n_samples_fitted)``, where ``n_samples_fitted``\n",
      "            is the number of samples used in the fitting for the estimator.\n",
      "\n",
      "        y : array-like of shape (n_samples,) or (n_samples, n_outputs)\n",
      "            True values for `X`.\n",
      "\n",
      "        sample_weight : array-like of shape (n_samples,), default=None\n",
      "            Sample weights.\n",
      "\n",
      "        Returns\n",
      "        -------\n",
      "        score : float\n",
      "            :math:`R^2` of ``self.predict(X)`` wrt. `y`.\n",
      "\n",
      "        Notes\n",
      "        -----\n",
      "        The :math:`R^2` score used when calling ``score`` on a regressor uses\n",
      "        ``multioutput='uniform_average'`` from version 0.23 to keep consistent\n",
      "        with default value of :func:`~sklearn.metrics.r2_score`.\n",
      "        This influences the ``score`` method of all the multioutput\n",
      "        regressors (except for\n",
      "        :class:`~sklearn.multioutput.MultiOutputRegressor`).\n",
      "        \n"
     ]
    }
   ],
   "source": [
    "lr = linear_model.LinearRegression()\n",
    "\n",
    "# help(lr.score) # for full output\n",
    "print(lr.score.__doc__)"
   ]
  },
  {
   "cell_type": "markdown",
   "id": "aed57b15",
   "metadata": {},
   "source": [
    "So from the above we can see that R$^2$ = 1 - $\\frac{\\sum_{i=1}^{n} (actual - prediction)^2}{\\sum_{i=1}^{n} (actual mean - prediction)^2}$"
   ]
  },
  {
   "cell_type": "markdown",
   "id": "f347cb4f",
   "metadata": {},
   "source": [
    "The default metric for linear regression is `R2`. In fact, `R2` is the default metric for all\n",
    "regressors. We’ll have more to say about R2 in a few minutes. The other major built-in\n",
    "performance evaluation metrics for regressors are `mean absolute error`, mean squared error\n",
    "(which we’ve been using), and `median absolute error`."
   ]
  },
  {
   "cell_type": "markdown",
   "id": "5ae009a0",
   "metadata": {},
   "source": [
    "#### MAE vs MSE\n",
    "The difference between them that MSE gives larger penalties to larger errors<br>\n",
    "The difference beween an error of 2 and 4: in **MAE** goes from 2 to 4 but in **MSE** goes from 4 to 16\n",
    "`median absolute error` can be used to to protect us from single large errors overwhelming other well-behaved errors"
   ]
  },
  {
   "cell_type": "markdown",
   "id": "a33b8bbd",
   "metadata": {},
   "source": [
    "## R$^2$"
   ]
  },
  {
   "cell_type": "code",
   "execution_count": 6,
   "id": "9e1b5912",
   "metadata": {},
   "outputs": [
    {
     "name": "stdout",
     "output_type": "stream",
     "text": [
      "manual r2: 0.40\n"
     ]
    }
   ],
   "source": [
    "our_preds = np.array([1, 2, 3])\n",
    "mean_preds = np.array([2, 2, 2])\n",
    "actual = np.array([2, 3, 4])\n",
    "\n",
    "sse_ours = np.sum(( our_preds - actual)**2)\n",
    "sse_mean = np.sum((mean_preds - actual)**2)\n",
    "r_2 = 1 - (sse_ours / sse_mean)\n",
    "print(\"manual r2:{:5.2f}\".format(r_2))   "
   ]
  },
  {
   "cell_type": "markdown",
   "id": "4fa806b9",
   "metadata": {},
   "source": [
    "What is the ratio $\\frac{SSE_{ours}}{SSE_{mean}}$ means, well it's the ratio between our predictor error to the baseline predictor (which always predict the mean) So we are normalizing our result so if the baseline model has error of 10000 and our predictor has error of 2500 Then R2 = 1- 0.25 = 0.75 **But do we need the -1?**"
   ]
  },
  {
   "cell_type": "markdown",
   "id": "589f132e",
   "metadata": {},
   "source": [
    "###  An Interpretation of R2 for the Machine Learning World"
   ]
  },
  {
   "cell_type": "markdown",
   "id": "6f62c64d",
   "metadata": {},
   "source": [
    "The term $\\frac{SSE_{ours}}{SSE_{mean}}$ will be between 0 and 1, if the linear regression makes no errors on the\n",
    "data, it will be zero and if the linear regression uses only a constant term, it will be identical to the mean\n",
    "and the value will be 1"
   ]
  },
  {
   "cell_type": "markdown",
   "id": "27b49158",
   "metadata": {},
   "source": [
    "* `R2 = 1` means that our model has no error \n",
    "* `R2 = 0` means that our model predict the same way as our baseline model(mean value) \n",
    "* `R2 = -ve` means that our model is worse than the baseline and produce larger error which makes the fraction > 1 "
   ]
  },
  {
   "cell_type": "markdown",
   "id": "3c29b878",
   "metadata": {},
   "source": [
    "### A Cold Dose of Reality: sklearn’s R2"
   ]
  },
  {
   "cell_type": "code",
   "execution_count": 7,
   "id": "0e3bbd3d",
   "metadata": {},
   "outputs": [
    {
     "name": "stdout",
     "output_type": "stream",
     "text": [
      "-0.014016723490579253\n"
     ]
    }
   ],
   "source": [
    "baseline = dummy.DummyRegressor(strategy='mean')\n",
    "\n",
    "baseline.fit(diabetes_train_ftrs, diabetes_train_tgt)\n",
    "base_preds = baseline.predict(diabetes_test_ftrs)\n",
    "\n",
    "# r2 is not symmetric because true values have priority\n",
    "# and are used to compute target mean\n",
    "base_r2_sklearn = metrics.r2_score(diabetes_test_tgt, base_preds)\n",
    "print(base_r2_sklearn)"
   ]
  },
  {
   "cell_type": "markdown",
   "id": "415eb137",
   "metadata": {},
   "source": [
    "Now, let’s look at those values with some manual computations:"
   ]
  },
  {
   "cell_type": "code",
   "execution_count": 8,
   "id": "5dffe9f5",
   "metadata": {},
   "outputs": [
    {
     "name": "stdout",
     "output_type": "stream",
     "text": [
      "sklearn train-mean model SSE(on test): 622398.9703179051\n",
      " manual train-mean model SSE(on test): 622398.9703179051\n",
      " manual test-mean model SSE(on test): 613795.5675675676\n"
     ]
    }
   ],
   "source": [
    "# sklearn-train-mean to predict test tgts\n",
    "base_errors = base_preds - diabetes_test_tgt\n",
    "sse_base_preds = np.dot(base_errors, base_errors) # SSE ours\n",
    "\n",
    "# train-mean to predict test targets\n",
    "train_mean_errors = np.mean(diabetes_train_tgt) - diabetes_test_tgt\n",
    "sse_mean_train = np.dot(train_mean_errors, train_mean_errors) \n",
    "\n",
    "# test-mean to predict test targets (Danger Will Robinson!)\n",
    "test_mean_errors = np.mean(diabetes_test_tgt) - diabetes_test_tgt\n",
    "sse_mean_test = np.dot(test_mean_errors, test_mean_errors) # SSE mean\n",
    "\n",
    "print(\"sklearn train-mean model SSE(on test):\", sse_base_preds)\n",
    "print(\" manual train-mean model SSE(on test):\", sse_mean_train)\n",
    "print(\" manual test-mean model SSE(on test):\", sse_mean_test)"
   ]
  },
  {
   "cell_type": "code",
   "execution_count": 9,
   "id": "85e0da5f",
   "metadata": {},
   "outputs": [
    {
     "data": {
      "text/plain": [
       "-0.014016723490578809"
      ]
     },
     "execution_count": 9,
     "metadata": {},
     "output_type": "execute_result"
    }
   ],
   "source": [
    "1 - (sse_base_preds / sse_mean_test)"
   ]
  },
  {
   "cell_type": "markdown",
   "id": "585b72a4",
   "metadata": {},
   "source": [
    "sklearn’s R2 is specifically calculating its base model—the mean model—from the true values we are testing against. We are not comparing the performance of `my_model.fit(train)` and `mean_model.fit(train)`. With sklearn’s R2, we are comparing\n",
    "`my_model.fit(train)` with `mean_model.fit(test)` and evaluating them against test."
   ]
  },
  {
   "cell_type": "markdown",
   "id": "0ad5f89f",
   "metadata": {},
   "source": [
    "## Residual Plots"
   ]
  },
  {
   "cell_type": "markdown",
   "id": "71bb40af",
   "metadata": {},
   "source": [
    "## 1. Error Plots\n",
    "To get started, let’s graph an actual, true target value against a predicted value. The\n",
    "graphical distance between the two represents our error"
   ]
  },
  {
   "cell_type": "code",
   "execution_count": 10,
   "id": "9094db5d",
   "metadata": {},
   "outputs": [
    {
     "data": {
      "text/html": [
       "<div>\n",
       "<style scoped>\n",
       "    .dataframe tbody tr th:only-of-type {\n",
       "        vertical-align: middle;\n",
       "    }\n",
       "\n",
       "    .dataframe tbody tr th {\n",
       "        vertical-align: top;\n",
       "    }\n",
       "\n",
       "    .dataframe thead th {\n",
       "        text-align: right;\n",
       "    }\n",
       "</style>\n",
       "<table border=\"1\" class=\"dataframe\">\n",
       "  <thead>\n",
       "    <tr style=\"text-align: right;\">\n",
       "      <th></th>\n",
       "      <th>predicted</th>\n",
       "      <th>actual</th>\n",
       "      <th>error</th>\n",
       "    </tr>\n",
       "    <tr>\n",
       "      <th>example</th>\n",
       "      <th></th>\n",
       "      <th></th>\n",
       "      <th></th>\n",
       "    </tr>\n",
       "  </thead>\n",
       "  <tbody>\n",
       "    <tr>\n",
       "      <th>0</th>\n",
       "      <td>4</td>\n",
       "      <td>3</td>\n",
       "      <td>1</td>\n",
       "    </tr>\n",
       "    <tr>\n",
       "      <th>1</th>\n",
       "      <td>2</td>\n",
       "      <td>5</td>\n",
       "      <td>-3</td>\n",
       "    </tr>\n",
       "    <tr>\n",
       "      <th>2</th>\n",
       "      <td>9</td>\n",
       "      <td>7</td>\n",
       "      <td>2</td>\n",
       "    </tr>\n",
       "  </tbody>\n",
       "</table>\n",
       "</div>"
      ],
      "text/latex": [
       "{\\centering\n",
       "\\begin{tabular}{lrrr}\n",
       "\\toprule\n",
       "{} &  predicted &  actual &  error \\\\\n",
       "example &            &         &        \\\\\n",
       "\\midrule\n",
       "0       &          4 &       3 &      1 \\\\\n",
       "1       &          2 &       5 &     -3 \\\\\n",
       "2       &          9 &       7 &      2 \\\\\n",
       "\\bottomrule\n",
       "\\end{tabular}\n",
       "\n",
       "\\medskip}"
      ],
      "text/plain": [
       "         predicted  actual  error\n",
       "example                          \n",
       "0                4       3      1\n",
       "1                2       5     -3\n",
       "2                9       7      2"
      ]
     },
     "metadata": {},
     "output_type": "display_data"
    }
   ],
   "source": [
    "ape_df = pd.DataFrame({'predicted' : [4, 2, 9],\n",
    "'actual' : [3, 5, 7]})\n",
    "\n",
    "ape_df['error'] = ape_df['predicted'] - ape_df['actual']\n",
    "\n",
    "ape_df.index.name = 'example'\n",
    "display(ape_df)"
   ]
  },
  {
   "cell_type": "code",
   "execution_count": 11,
   "id": "fd98a97e",
   "metadata": {},
   "outputs": [
    {
     "data": {
      "text/plain": [
       "[('actual', 'predicted'), ('predicted', 'actual')]"
      ]
     },
     "execution_count": 11,
     "metadata": {},
     "output_type": "execute_result"
    }
   ],
   "source": [
    "list(it.permutations(['actual', 'predicted']))"
   ]
  },
  {
   "cell_type": "code",
   "execution_count": 12,
   "id": "b45cf1d1",
   "metadata": {},
   "outputs": [],
   "source": [
    "def regression_errors(figsize, predicted, actual, errors='all'):\n",
    "    ''' figsize -> subplots;\n",
    "    predicted/actual data -> columns in a DataFrame\n",
    "    errors -> \"all\" or sequence of indices '''\n",
    "    \n",
    "    # Create 1*2 subplots with the figsize inputed, Build a dataframe with the predicted, actual\n",
    "    fig, axes = plt.subplots(1, 2, figsize=figsize, sharex=True, sharey=True) \n",
    "    df = pd.DataFrame({'actual':actual,'predicted':predicted})\n",
    "\n",
    "    # fist iter --> 0, ('actual', 'predicted')\n",
    "    # second iter --> 1, ('predicted', 'actual')\n",
    "    for ax, (x,y) in zip(axes, it.permutations(['actual', 'predicted'])): \n",
    "        \n",
    "        # plot the data as '.'; perfect as y=x line\n",
    "        ax.plot(df[x], df[y], '.', label='data')\n",
    "        ax.plot(df['actual'], df['actual'], '-', label='perfection')  # y=x for the actual data\n",
    "        ax.legend()\n",
    "\n",
    "        ax.set_xlabel('{} Value'.format(x.capitalize()))\n",
    "        ax.set_ylabel('{} Value'.format(y.capitalize()))\n",
    "        ax.set_aspect('equal')\n",
    "    \n",
    "    axes[1].yaxis.tick_right()\n",
    "    axes[1].yaxis.set_label_position(\"right\")\n",
    "\n",
    "    # show connecting bars from data to perfect\n",
    "    # for all or only those specified?\n",
    "    if errors == 'all':\n",
    "        errors = range(len(df))\n",
    "    if errors:\n",
    "        acts = df.actual.iloc[errors]  # determine the error points for the actual data\n",
    "        preds = df.predicted.iloc[errors]  # determine the error points for the predicted data\n",
    "        axes[0].vlines(acts, preds, acts, 'r') # draw vertical line between two points\n",
    "        axes[1].hlines(acts, preds, acts, 'r') # draw horizontal line between two points"
   ]
  },
  {
   "cell_type": "code",
   "execution_count": 13,
   "id": "16e03150",
   "metadata": {},
   "outputs": [
    {
     "data": {
      "image/png": "[encoded data removed]",
      "text/plain": [
       "<Figure size 432x216 with 2 Axes>"
      ]
     },
     "metadata": {
      "needs_background": "light"
     },
     "output_type": "display_data"
    }
   ],
   "source": [
    "regression_errors((6, 3), ape_df.predicted, ape_df.actual)"
   ]
  },
  {
   "cell_type": "markdown",
   "id": "ea539fa2",
   "metadata": {},
   "source": [
    "In both cases, the orange line (y = x which in this case is predicted = actual) is conceptually an omniscient model where the predicted value is the true actual value."
   ]
  },
  {
   "cell_type": "code",
   "execution_count": 14,
   "id": "5a692902",
   "metadata": {},
   "outputs": [
    {
     "data": {
      "image/png": "[encoded data removed]",
      "text/plain": [
       "<Figure size 576x288 with 2 Axes>"
      ]
     },
     "metadata": {
      "needs_background": "light"
     },
     "output_type": "display_data"
    }
   ],
   "source": [
    "lr = linear_model.LinearRegression()\n",
    "preds = (lr.fit(diabetes_train_ftrs, diabetes_train_tgt).predict(diabetes_test_ftrs))\n",
    "\n",
    "regression_errors((8, 4), preds, diabetes_test_tgt, errors=[-20]) "
   ]
  },
  {
   "cell_type": "markdown",
   "id": "2edff752",
   "metadata": {},
   "source": [
    "The two graphs asks different questions\n",
    "1. left: Compared to reality (Actual Value), how did we do?\n",
    "2. right : For a given prediction (Predicted Value), how do we do?\n",
    "\n",
    "The difference is similar to percision-recall relationship, Let's say that we are predicting sick we can see that when the actual value is from 200 - 250 the prediction is lower than the actual (under the y=x line), When the predicted value is near 200, we have real values ranging from 50 to 300 (data points are across the plot)"
   ]
  },
  {
   "cell_type": "markdown",
   "id": "2c4eb19e",
   "metadata": {},
   "source": [
    "## 2.  Residual Plots\n",
    "We talked about the error of our predictions:\n",
    "error = predicted − actual. But for residual plots, we need the mirror image of these:\n",
    "residuals = actual − predicted."
   ]
  },
  {
   "cell_type": "code",
   "execution_count": 15,
   "id": "6ad8b60b",
   "metadata": {},
   "outputs": [
    {
     "data": {
      "text/html": [
       "<div>\n",
       "<style scoped>\n",
       "    .dataframe tbody tr th:only-of-type {\n",
       "        vertical-align: middle;\n",
       "    }\n",
       "\n",
       "    .dataframe tbody tr th {\n",
       "        vertical-align: top;\n",
       "    }\n",
       "\n",
       "    .dataframe thead th {\n",
       "        text-align: right;\n",
       "    }\n",
       "</style>\n",
       "<table border=\"1\" class=\"dataframe\">\n",
       "  <thead>\n",
       "    <tr style=\"text-align: right;\">\n",
       "      <th></th>\n",
       "      <th>predicted</th>\n",
       "      <th>actual</th>\n",
       "      <th>error</th>\n",
       "      <th>resid</th>\n",
       "    </tr>\n",
       "  </thead>\n",
       "  <tbody>\n",
       "    <tr>\n",
       "      <th>0</th>\n",
       "      <td>4</td>\n",
       "      <td>3</td>\n",
       "      <td>1</td>\n",
       "      <td>-1</td>\n",
       "    </tr>\n",
       "    <tr>\n",
       "      <th>1</th>\n",
       "      <td>2</td>\n",
       "      <td>5</td>\n",
       "      <td>-3</td>\n",
       "      <td>3</td>\n",
       "    </tr>\n",
       "    <tr>\n",
       "      <th>2</th>\n",
       "      <td>9</td>\n",
       "      <td>7</td>\n",
       "      <td>2</td>\n",
       "      <td>-2</td>\n",
       "    </tr>\n",
       "  </tbody>\n",
       "</table>\n",
       "</div>"
      ],
      "text/latex": [
       "{\\centering\n",
       "\\begin{tabular}{lrrrr}\n",
       "\\toprule\n",
       "{} &  predicted &  actual &  error &  resid \\\\\n",
       "\\midrule\n",
       "0 &          4 &       3 &      1 &     -1 \\\\\n",
       "1 &          2 &       5 &     -3 &      3 \\\\\n",
       "2 &          9 &       7 &      2 &     -2 \\\\\n",
       "\\bottomrule\n",
       "\\end{tabular}\n",
       "\n",
       "\\medskip}"
      ],
      "text/plain": [
       "   predicted  actual  error  resid\n",
       "0          4       3      1     -1\n",
       "1          2       5     -3      3\n",
       "2          9       7      2     -2"
      ]
     },
     "metadata": {},
     "output_type": "display_data"
    }
   ],
   "source": [
    "ape_df = pd.DataFrame({'predicted' : [4, 2, 9],\n",
    "'actual' : [3, 5, 7]})\n",
    "\n",
    "ape_df['error'] = ape_df['predicted'] - ape_df['actual']\n",
    "ape_df['resid'] = ape_df['actual'] - ape_df['predicted']\n",
    "display(ape_df)"
   ]
  },
  {
   "cell_type": "markdown",
   "id": "c36835eb",
   "metadata": {},
   "source": [
    "Error of 2 means that we are over the real point by 2, error of -2 means we are under<br>\n",
    "\n",
    "Residual plots are made by graphing the predicted value against the residual for that prediction"
   ]
  },
  {
   "cell_type": "markdown",
   "id": "9104b2cd",
   "metadata": {},
   "source": [
    "For example, we predict 31.5 for an example that is actually 27.5. The residual is −4.0. So, we’ll have a point at (x = predicted = 31.5, y = residual = −4.0). Incidentally, these can be thought of as what’s left over after we make a prediction. If it's +ve means we need to add more to get the actual point "
   ]
  },
  {
   "cell_type": "code",
   "execution_count": 16,
   "id": "9821a739",
   "metadata": {},
   "outputs": [],
   "source": [
    "def regression_residuals(ax, predicted, actual, show_errors=None, right=False):\n",
    "    ''' figsize -> subplots;\n",
    "    predicted/actual data -> columns of a DataFrame\n",
    "    errors -> \"all\" or sequence of indices '''\n",
    "    \n",
    "    df = pd.DataFrame({'actual':actual, 'predicted':predicted})\n",
    "    df['resid'] = df.actual - df.predicted\n",
    "    ax.plot(df.predicted, df.resid, '.')\n",
    "    ax.plot(df.predicted, np.zeros_like(predicted), '-')\n",
    "\n",
    "    if right:\n",
    "        ax.yaxis.tick_right()\n",
    "        ax.yaxis.set_label_position(\"right\")\n",
    "        ax.set_xlabel('Predicted Value')\n",
    "    ax.set_ylabel('Residual')\n",
    "\n",
    "    if show_errors == 'all':\n",
    "        show_errors = range(len(df))\n",
    "    if show_errors:\n",
    "        preds = df.predicted.iloc[show_errors] # get predicted val for error points\n",
    "        errors = df.resid.iloc[show_errors]  # get residual val for error points\n",
    "        ax.vlines(preds, 0, errors, 'r')  # drae vertical line between them\n",
    "        \n",
    "        "
   ]
  },
  {
   "cell_type": "code",
   "execution_count": 17,
   "id": "a713d6cd",
   "metadata": {},
   "outputs": [
    {
     "data": {
      "image/png": "[encoded data removed]",
      "text/plain": [
       "<Figure size 576x288 with 2 Axes>"
      ]
     },
     "metadata": {
      "needs_background": "light"
     },
     "output_type": "display_data"
    }
   ],
   "source": [
    "fig, (ax1, ax2) = plt.subplots(1, 2, figsize=(8, 4))\n",
    "\n",
    "ax1.plot(ape_df.predicted, ape_df.actual, 'r.', [0, 10], [0, 10], 'b-') # perfect line Pred vs actul\n",
    "ax1.set_xlabel('Predicted')\n",
    "ax1.set_ylabel('Actual')\n",
    "regression_residuals(ax2, ape_df.predicted, ape_df.actual, 'all', right=True)"
   ]
  },
  {
   "cell_type": "code",
   "execution_count": 18,
   "id": "709d001d",
   "metadata": {},
   "outputs": [
    {
     "data": {
      "image/png": "[encoded data removed]",
      "text/plain": [
       "<Figure size 720x360 with 2 Axes>"
      ]
     },
     "metadata": {
      "needs_background": "light"
     },
     "output_type": "display_data"
    }
   ],
   "source": [
    "lr = linear_model.LinearRegression()\n",
    "knn = neighbors.KNeighborsRegressor()\n",
    "\n",
    "models = [lr, knn]\n",
    "\n",
    "fig, axes = plt.subplots(1, 2, figsize=(10, 5),sharex=True, sharey=True)\n",
    "fig.tight_layout()\n",
    "\n",
    "for model, ax, on_right in zip(models, axes, [False, True]):\n",
    "    preds = (model.fit(diabetes_train_ftrs, diabetes_train_tgt).predict(diabetes_test_ftrs))\n",
    "\n",
    "    regression_residuals(ax, preds, diabetes_test_tgt, [-20], on_right)\n",
    "\n",
    "axes[0].set_title('Linear Regression Residuals')\n",
    "axes[1].set_title('k-NN-Regressor Residuals');"
   ]
  },
  {
   "cell_type": "markdown",
   "id": "873a6e66",
   "metadata": {},
   "source": [
    "With the linear regression model, the value is predicted a hint under 250. With the k-NN-R model, the\n",
    "value is predicted to be a bit above 250. In both cases, it is underpredicted (remember,\n",
    "residuals tell us how to fix up the prediction: we need to add a bit to these predictions).\n",
    "The actual value is:"
   ]
  },
  {
   "cell_type": "code",
   "execution_count": 19,
   "id": "d05049aa",
   "metadata": {},
   "outputs": [
    {
     "name": "stdout",
     "output_type": "stream",
     "text": [
      "280.0\n"
     ]
    }
   ],
   "source": [
    "print(diabetes_test_tgt[-20])"
   ]
  },
  {
   "cell_type": "markdown",
   "id": "9283c734",
   "metadata": {},
   "source": [
    "If either of our models predicted 280, the residual would be zero.\n",
    "\n",
    "# A First Look at Standardization\n",
    "normalization is the process of taking different measurements\n",
    "and putting them on a directly comparable footing. Often, this involves two steps:\n",
    "1. adjusting the center of the data\n",
    "2. adjusting the scale of the data\n",
    "\n",
    "When we standardize our data, we do two things: \n",
    "1. we center the data around zero and \n",
    "2. we scale the data so it has a standard deviation of 1\n",
    "\n",
    "Those two steps happen by (1) subtracting the mean and then (2) dividing by the standard deviation"
   ]
  },
  {
   "cell_type": "code",
   "execution_count": 20,
   "id": "ce5dea58",
   "metadata": {},
   "outputs": [
    {
     "data": {
      "text/html": [
       "<div>\n",
       "<style scoped>\n",
       "    .dataframe tbody tr th:only-of-type {\n",
       "        vertical-align: middle;\n",
       "    }\n",
       "\n",
       "    .dataframe tbody tr th {\n",
       "        vertical-align: top;\n",
       "    }\n",
       "\n",
       "    .dataframe thead th {\n",
       "        text-align: right;\n",
       "    }\n",
       "</style>\n",
       "<table border=\"1\" class=\"dataframe\">\n",
       "  <thead>\n",
       "    <tr style=\"text-align: right;\">\n",
       "      <th></th>\n",
       "      <th>x</th>\n",
       "      <th>std-ized</th>\n",
       "    </tr>\n",
       "  </thead>\n",
       "  <tbody>\n",
       "    <tr>\n",
       "      <th>mean</th>\n",
       "      <td>2.5000</td>\n",
       "      <td>0.0000</td>\n",
       "    </tr>\n",
       "    <tr>\n",
       "      <th>std</th>\n",
       "      <td>4.6706</td>\n",
       "      <td>1.0000</td>\n",
       "    </tr>\n",
       "  </tbody>\n",
       "</table>\n",
       "</div>"
      ],
      "text/latex": [
       "{\\centering\n",
       "\\begin{tabular}{lrr}\n",
       "\\toprule\n",
       "{} &                    x &             std-ized \\\\\n",
       "\\midrule\n",
       "mean &               2.5000 &               0.0000 \\\\\n",
       "std  &               4.6706 &               1.0000 \\\\\n",
       "\\bottomrule\n",
       "\\end{tabular}\n",
       "\n",
       "\\medskip}"
      ],
      "text/plain": [
       "                        x             std-ized\n",
       "mean               2.5000               0.0000\n",
       "std                4.6706               1.0000"
      ]
     },
     "metadata": {},
     "output_type": "display_data"
    },
    {
     "data": {
      "image/png": "[encoded data removed]",
      "text/plain": [
       "<Figure size 216x216 with 1 Axes>"
      ]
     },
     "metadata": {
      "needs_background": "light"
     },
     "output_type": "display_data"
    }
   ],
   "source": [
    "# 1D standardization\n",
    "# place evenly spaced values in a dataframe\n",
    "xs = np.linspace(-5, 10, 20)\n",
    "df = pd.DataFrame(xs, columns=['x'])\n",
    "\n",
    "# center ( - mean) and scale (/ std)\n",
    "df['std-ized'] = (df.x - df.x.mean()) / df.x.std()\n",
    "\n",
    "# show original and new data; compute statistics\n",
    "fig, ax = plt.subplots(1, 1, figsize=(3, 3))\n",
    "sns.stripplot(data=df)\n",
    "display(df.describe().loc[['mean', 'std']])"
   ]
  },
  {
   "cell_type": "code",
   "execution_count": 21,
   "id": "0590eb7b",
   "metadata": {},
   "outputs": [
    {
     "data": {
      "text/html": [
       "<div>\n",
       "<style scoped>\n",
       "    .dataframe tbody tr th:only-of-type {\n",
       "        vertical-align: middle;\n",
       "    }\n",
       "\n",
       "    .dataframe tbody tr th {\n",
       "        vertical-align: top;\n",
       "    }\n",
       "\n",
       "    .dataframe thead th {\n",
       "        text-align: right;\n",
       "    }\n",
       "</style>\n",
       "<table border=\"1\" class=\"dataframe\">\n",
       "  <thead>\n",
       "    <tr style=\"text-align: right;\">\n",
       "      <th></th>\n",
       "      <th>x</th>\n",
       "      <th>y</th>\n",
       "    </tr>\n",
       "  </thead>\n",
       "  <tbody>\n",
       "    <tr>\n",
       "      <th>mean</th>\n",
       "      <td>0.0000</td>\n",
       "      <td>-0.0000</td>\n",
       "    </tr>\n",
       "    <tr>\n",
       "      <th>std</th>\n",
       "      <td>1.0000</td>\n",
       "      <td>1.0000</td>\n",
       "    </tr>\n",
       "  </tbody>\n",
       "</table>\n",
       "</div>"
      ],
      "text/latex": [
       "{\\centering\n",
       "\\begin{tabular}{lrr}\n",
       "\\toprule\n",
       "{} &                    x &                    y \\\\\n",
       "\\midrule\n",
       "mean &               0.0000 &              -0.0000 \\\\\n",
       "std  &               1.0000 &               1.0000 \\\\\n",
       "\\bottomrule\n",
       "\\end{tabular}\n",
       "\n",
       "\\medskip}"
      ],
      "text/plain": [
       "                        x                    y\n",
       "mean               0.0000              -0.0000\n",
       "std                1.0000               1.0000"
      ]
     },
     "metadata": {},
     "output_type": "display_data"
    }
   ],
   "source": [
    "# 2 1D standardizations\n",
    "xs = np.linspace(-5, 10, 20)\n",
    "ys = 3*xs + 2 + np.random.uniform(20, 40, 20)\n",
    "\n",
    "df = pd.DataFrame({'x':xs, 'y':ys})\n",
    "df_std_ized = (df - df.mean()) / df.std()\n",
    "\n",
    "display(df_std_ized.describe().loc[['mean', 'std']])"
   ]
  },
  {
   "cell_type": "code",
   "execution_count": 24,
   "id": "ef0fbfed",
   "metadata": {},
   "outputs": [
    {
     "data": {
      "image/png": "[encoded data removed]",
      "text/plain": [
       "<Figure size 360x360 with 4 Axes>"
      ]
     },
     "metadata": {
      "needs_background": "light"
     },
     "output_type": "display_data"
    }
   ],
   "source": [
    "fig, ax = plt.subplots(2, 2, figsize=(5, 5))\n",
    "\n",
    "ax[0,0].plot(df.x, df.y, '.')    # plot actual points fig1\n",
    "ax[0,1].plot(df_std_ized.x, df_std_ized.y, '.')  # plot standarized points fig2\n",
    "ax[0,0].set_ylabel('Natural\" Scale')\n",
    "\n",
    "ax[1,0].plot(df.x, df.y, '.')\n",
    "ax[1,1].plot(df_std_ized.x, df_std_ized.y, '.')\n",
    "\n",
    "ax[1,0].axis([-10, 50, -10, 50])\n",
    "ax[1,1].axis([-10, 50, -10, 50])\n",
    "\n",
    "ax[1,0].set_ylabel('Fixed/Shared Scale')\n",
    "ax[1,0].set_xlabel('Original Data')\n",
    "ax[1,1].set_xlabel('Standardized Data');"
   ]
  },
  {
   "cell_type": "markdown",
   "id": "2570eb55",
   "metadata": {},
   "source": [
    "We can see that the shape of the data stays the same after standarization however the data now has mean of 0 and std of 1"
   ]
  },
  {
   "cell_type": "markdown",
   "id": "b6c2ba94",
   "metadata": {},
   "source": [
    "We can perform standardization in sklearn using a special “learner” named `StandardScaler`.<br>\n",
    "This **Learner** is different than the other learner we've seen (knn, linear regression,...), the learner figures out the\n",
    "mean and standard deviation from the training data and applies these values to transform the data ***Transform works the same way as predict***"
   ]
  },
  {
   "cell_type": "code",
   "execution_count": 26,
   "id": "17bf9c97",
   "metadata": {},
   "outputs": [
    {
     "data": {
      "text/plain": [
       "array([[-1.3427],\n",
       "       [-0.4593],\n",
       "       [ 0.424 ],\n",
       "       [ 0.0707],\n",
       "       [ 1.8373],\n",
       "       [-0.8127],\n",
       "       [-0.2827],\n",
       "       [ 0.954 ],\n",
       "       [ 1.1307],\n",
       "       [ 1.6607]])"
      ]
     },
     "execution_count": 26,
     "metadata": {},
     "output_type": "execute_result"
    }
   ],
   "source": [
    "train_xs, test_xs = skms.train_test_split(xs.reshape(-1, 1), test_size=.5)\n",
    "\n",
    "scaler = skpre.StandardScaler()\n",
    "scaler.fit(train_xs).transform(test_xs)"
   ]
  },
  {
   "cell_type": "code",
   "execution_count": 27,
   "id": "b7aa25a7",
   "metadata": {},
   "outputs": [
    {
     "data": {
      "text/plain": [
       "array([[42.7723],\n",
       "       [60.4456],\n",
       "       [15.    ],\n",
       "       [25.099 ],\n",
       "       [30.1485],\n",
       "       [12.4752],\n",
       "       [27.6238],\n",
       "       [35.198 ],\n",
       "       [37.7228],\n",
       "       [55.396 ]])"
      ]
     },
     "execution_count": 27,
     "metadata": {},
     "output_type": "execute_result"
    }
   ],
   "source": [
    "# We will use a pipeline for these steps\n",
    "\n",
    "(train_xs, test_xs, train_ys, test_ys)= skms.train_test_split(xs.reshape(-1, 1), ys.reshape(-1, 1), test_size=.5)\n",
    "\n",
    "scaler = skpre.StandardScaler()\n",
    "lr = linear_model.LinearRegression()\n",
    "\n",
    "std_lr_pipe = pipeline.make_pipeline(scaler, lr) # Create our pipeline with the two steps\n",
    "\n",
    "std_lr_pipe.fit(train_xs, train_ys).predict(test_xs)"
   ]
  },
  {
   "cell_type": "markdown",
   "id": "7263a01c",
   "metadata": {},
   "source": [
    "The pipeline itself acts just like any other **learner** we’ve seen: it has `fit` and `predict` methods. We can use a pipeline as a plug-in substitute for any other learning method.<br>\n",
    "A detail on pipelines: even though the `StandardScaler` uses `transform` when it is applied stand-alone, the overall `pipeline` uses `predict` to apply the transformation<br>\n",
    "Finally one last warning, Just like we don’t want to peek with a full-blown learner we don't want to peek with our preprocessing (like : standardScaler)\n"
   ]
  }
 ],
 "metadata": {
  "kernelspec": {
   "display_name": "Python 3 (ipykernel)",
   "language": "python",
   "name": "python3"
  },
  "language_info": {
   "codemirror_mode": {
    "name": "ipython",
    "version": 3
   },
   "file_extension": ".py",
   "mimetype": "text/x-python",
   "name": "python",
   "nbconvert_exporter": "python",
   "pygments_lexer": "ipython3",
   "version": "3.9.7"
  }
 },
 "nbformat": 4,
 "nbformat_minor": 5
}
