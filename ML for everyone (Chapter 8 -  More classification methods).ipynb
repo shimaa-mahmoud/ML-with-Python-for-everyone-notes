{
 "cells": [
  {
   "cell_type": "code",
   "execution_count": 3,
   "id": "f5b679dd",
   "metadata": {},
   "outputs": [],
   "source": [
    "# setup\n",
    "from mlwpy import *\n",
    "from IPython.display import Image\n",
    "%matplotlib inline\n"
   ]
  },
  {
   "cell_type": "code",
   "execution_count": 2,
   "id": "d17e664f",
   "metadata": {},
   "outputs": [],
   "source": [
    "iris = datasets.load_iris()\n",
    "\n",
    "# standard iris dataset\n",
    "tts = skms.train_test_split(iris.data, iris.target,\n",
    "test_size=.33, random_state=21)\n",
    "(iris_train_ftrs, iris_test_ftrs,\n",
    "iris_train_tgt, iris_test_tgt) = tts\n",
    "\n",
    "# one-class variation\n",
    "useclass = 1\n",
    "tts_1c = skms.train_test_split(iris.data, iris.target==useclass,\n",
    "test_size=.33, random_state = 21)\n",
    "(iris_1c_train_ftrs, iris_1c_test_ftrs,\n",
    "iris_1c_train_tgt, iris_1c_test_tgt) = tts_1c"
   ]
  },
  {
   "cell_type": "markdown",
   "id": "b398bbee",
   "metadata": {},
   "source": [
    "#  Revisiting Classification\n",
    "Classification methods differ in two fundamental ways: \n",
    "1. they have different constraints on how to draw their boundaries \n",
    "2. they have different ways to evaluate those boundaries."
   ]
  },
  {
   "cell_type": "markdown",
   "id": "a35f6865",
   "metadata": {},
   "source": [
    "#  Decision Trees\n",
    "Let's say you want to prdict when X will play tennis, So here is some collected data:\n",
    "![](pdfs/10.png)"
   ]
  },
  {
   "cell_type": "code",
   "execution_count": null,
   "id": "a3b19a53",
   "metadata": {},
   "outputs": [],
   "source": []
  }
 ],
 "metadata": {
  "kernelspec": {
   "display_name": "Python 3 (ipykernel)",
   "language": "python",
   "name": "python3"
  },
  "language_info": {
   "codemirror_mode": {
    "name": "ipython",
    "version": 3
   },
   "file_extension": ".py",
   "mimetype": "text/x-python",
   "name": "python",
   "nbconvert_exporter": "python",
   "pygments_lexer": "ipython3",
   "version": "3.9.7"
  }
 },
 "nbformat": 4,
 "nbformat_minor": 5
}
